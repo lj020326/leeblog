{
 "cells": [
  {
   "cell_type": "markdown",
   "metadata": {
    "collapsed": true
   },
   "source": [
    "# Conda: Myths and Misconceptions"
   ]
  },
  {
   "cell_type": "markdown",
   "metadata": {},
   "source": [
    "*This notebook originally appeared as a [post](http://jakevdp.github.io/blog/2016/08/25/conda-myths-and-misconceptions/) on the blog [Pythonic Perambulations](http://jakevdp.github.io).*"
   ]
  },
  {
   "cell_type": "markdown",
   "metadata": {},
   "source": [
    "<!-- PELICAN_BEGIN_SUMMARY -->\n",
    "\n",
    "I've spent much of the last decade using Python for my research, teaching Python tools to other scientists and developers, and developing Python tools for efficient data manipulation, scientific and statistical computation, and visualization.\n",
    "The Python-for-data landscape has changed immensely since I first installed NumPy and SciPy from via a flickering CRT display.\n",
    "Among the new developments since those early days, the one with perhaps the broadest impact on my daily work has been the introduction of [conda](http://conda.pydata.org), the open-source cross-platform package manager first released in 2012.\n",
    "\n",
    "In the four years since its initial release, many words have been spilt introducing conda and espousing its merits, but one thing I have consistently noticed is the number of misconceptions that seem to remain in the (often fervent) discussions surrounding this tool.\n",
    "I hope in this post to do a small part in putting these myths and misconceptions to rest.\n",
    "\n",
    "<!-- PELICAN_END_SUMMARY -->\n",
    "\n",
    "I've tried to be as succinct as I can, but if you want to skim this article and get the gist of the discussion, you can read each heading along with the the bold summary just below it."
   ]
  },
  {
   "cell_type": "markdown",
   "metadata": {},
   "source": [
    "### Myth #1: Conda is a distribution, not a package manager\n",
    "\n",
    "**Reality: Conda is a package manager; Anaconda is a distribution. Although Conda is packaged with Anaconda, the two are distinct entities with distinct goals.**\n",
    "\n",
    "A *software distribution* is a pre-built and pre-configured collection of packages that can be installed and used on a system.\n",
    "A *package manager* is a tool that automates the process of installing, updating, and removing packages.\n",
    "Conda, with its \"``conda install``\", \"``conda update``\", and \"``conda remove``\" sub-commands, falls squarely under the second definition: it is a package manager.\n",
    "\n",
    "Perhaps the confusion here comes from the fact that Conda *is* tightly coupled to two software distributions: [Anaconda](https://docs.continuum.io/anaconda/) and [Miniconda](http://conda.pydata.org/miniconda.html). Anaconda is a full distribution of the central software in the PyData ecosystem, and includes Python itself along with binaries for several hundred third-party open-source projects. Miniconda is essentially an installer for an empty conda environment, containing only Conda and its dependencies, so that you can install what you need from scratch.\n",
    "\n",
    "But make no mistake: Conda is as distinct from Anaconda/Miniconda as is Python itself, and (if you wish) can be installed without ever touching Anaconda/Miniconda.\n",
    "For more on each of these, see the [conda FAQ](http://conda.pydata.org/docs/faq.html#general-questions)."
   ]
  },
  {
   "cell_type": "markdown",
   "metadata": {},
   "source": [
    "### Myth #2: Conda is a *Python* package manager\n",
    "\n",
    "**Reality: Conda is a general-purpose package management system, designed to build and manage software of any type from any language. As such, it also works well with Python packages.**\n",
    "\n",
    "Because conda arose from within the Python (more specifically PyData) community, many mistakenly assume that it is fundamentally a Python package manager.\n",
    "This is not the case: conda is designed to manage packages and dependencies within *any* software stack.\n",
    "In this sense, it's less like pip, and more like a cross-platform version of apt or yum.\n",
    "\n",
    "If you use conda, you are already probably taking advantage of many non-Python packages; the following command will list the ones in your environment:\n",
    "\n",
    "```\n",
    "$ conda search --canonical  | grep -v 'py\\d\\d'\n",
    "```\n",
    "\n",
    "On my system, there are 350 results: these are packages within my Conda/Python environment that *are fundamentally unmanageable by Python-only tools like pip & virtualenv*."
   ]
  },
  {
   "cell_type": "markdown",
   "metadata": {},
   "source": [
    "### Myth #3: Conda and pip are direct competitors\n",
    "\n",
    "**Reality: Conda and pip serve different purposes, and only directly compete in a small subset of tasks: namely installing Python packages in isolated environments.**\n",
    "\n",
    "[Pip](https://pip.pypa.io/), which stands for **P**ip **I**nstalls **P**ackages, is Python's officially-sanctioned package manager, and is most commonly used to install packages published on the [Python Package Index (PyPI)](https://pypi.python.org/). Both pip and PyPI are governed and supported by the [Python Packaging Authority (PyPA)](https://www.pypa.io/).\n",
    "\n",
    "In short, pip is a general-purpose manager for Python packages; conda is a language-agnostic cross-platform environment manager.\n",
    "For the user, the most salient distinction is probably this: pip installs *python* packages within *any* environment; conda installs *any* package within *conda* environments.\n",
    "If all you are doing is installing *Python packages* within an *isolated environment*, conda and pip+virtualenv are mostly interchangeable, modulo some difference in dependency handling and package availability.\n",
    "By isolated environment I mean a conda-env or virtualenv, in which you can install packages without modifying your system Python installation.\n",
    "\n",
    "Even setting aside Myth #2, if we focus on *just installation of Python packages*, conda and pip serve different audiences and different purposes.\n",
    "If you want to, say, manage Python packages within an existing system Python installation, conda can't help you: by design, it can only install packages within conda environments.\n",
    "If you want to, say, work with the many Python packages which rely on external dependencies (NumPy, SciPy, and Matplotlib are common examples), while tracking those dependencies in a meaningful way, pip can't help you: by design, it manages Python packages and only Python packages.\n",
    "\n",
    "Conda and pip are not competitors, but rather tools focused on different groups of users and patterns of use."
   ]
  },
  {
   "cell_type": "markdown",
   "metadata": {},
   "source": [
    "### Myth #4: Creating conda in the first place was irresponsible & divisive\n",
    "\n",
    "**Reality: Conda's creators pushed Python's standard packaging to its limits for over a decade, and only created a second tool when it was clear it was the only reasonable way forward.**\n",
    "\n",
    "According to the [Zen of Python](https://www.python.org/dev/peps/pep-0020/#the-zen-of-python), when doing anything in Python \"There should be one – and preferably only one – obvious way to do it.\" So why would the creators of ``conda`` muddy the field by introducing a new way to install Python packages? Why didn't they contribute back to the Python community and improve ``pip`` to overcome its deficiencies?\n",
    "\n",
    "As it turns out, that is exactly what they did. Prior to 2012, the developers of the PyData/SciPy ecosystem went to great lengths to work within the constraints of the package management solutions developed by the Python community.\n",
    "As far back as 2001, the NumPy project [forked distutils](https://github.com/numpy/numpy/tree/master/numpy/distutils) in an attempt to make it handle the complex requirements of a NumPy distribution.\n",
    "They bundled a large portion of [NETLIB](http://netlib.org/liblist.html) into a single monolithic Python package (you might know this as [SciPy](http://scipy.org)), in effect creating a distribution-as-python-package to circumvent the fact that Python's distribution tools cannot manage these extra-Python dependencies in any meaningful way.\n",
    "An entire generation of scientific Python users spent countless hours struggling with the installation hell created by this exercise of forcing a square peg into a round hole – and those were just ones lucky enough to be using Linux.\n",
    "If you were on Windows, forget about it.\n",
    "To read some of the details about these pain-points and how they led to Conda, I'd suggest Travis Oliphant's [2013 blog post](http://technicaldiscovery.blogspot.com/2013/12/why-i-promote-conda.html) on the topic.\n",
    "\n",
    "But why didn't Conda's creators just *talk* to the Python packaging folks and figure out these challenges together? As it turns out, they did.\n",
    "\n",
    "The genesis of Conda came after Guido van Rossum was invited to speak at the inaugural PyData meetup in 2012; in a Q&A on the subject of packaging difficulties, he told us that when it comes to packaging, \"it really sounds like your needs are so unusual compared to the larger Python community that you're just better off building your own\" ([See video of this discussion](https://www.youtube.com/watch?v=QjXJLVINsSA&feature=youtu.be&t=3555)).\n",
    "Even while following this nugget of advice from the BDFL, the PyData community continued dialog and collaboration with core Python developers on the topic: one more public example of this was the invitation of CPython core developer Nick Coghlan to keynote at SciPy 2014 ([See video here](https://www.youtube.com/watch?v=IVzjVqr_Bzs)). He gave an excellent talk which specifically discusses pip and conda in the context of the \"unsolved problem\" of software distribution, and mentions the value of having multiple means of distribution tailored to the needs of specific users.\n",
    "\n",
    "Far from insinuating that Conda is divisive, Nick and others at the Python Packaging Authority officially [recognize conda](https://packaging.python.org/key_projects/#conda) as one of many important redistributors of Python code, and are working hard to better enable such tools to work seamlessly with the Python Package Index."
   ]
  },
  {
   "cell_type": "markdown",
   "metadata": {},
   "source": [
    "### Myth #5: conda doesn't work with virtualenv, so it's useless for my workflow\n",
    "\n",
    "**Reality: You actually can install (some) conda packages within a virtualenv, but better is to use Conda's own environment manager: it is fully-compatible with pip and has several advantages over virtualenv.**\n",
    "\n",
    "[virtualenv](https://virtualenv.pypa.io/en/stable/)/[venv](https://docs.python.org/3/library/venv.html) are utilites that allow users to create isolated Python environments that work with ``pip``.\n",
    "Conda has its own [built-in environment manager](http://conda.pydata.org/docs/using/envs.html) that works seamlessly with both conda and pip, and in fact has several advantages over virtualenv/venv:\n",
    "\n",
    "- conda environments integrate management of different Python versions, including installation and updating of Python itself. Virtualenvs must be created upon an existing, externally managed Python executable.\n",
    "- conda environments can track non-python dependencies; for example seamlessly managing dependencies and parallel versions of essential tools like LAPACK or OpenSSL\n",
    "- Rather than environments built on symlinks – which break the isolation of the virtualenv and can be flimsy at times for non-Python dependencies – conda-envs are true isolated environments within a single executable path.\n",
    "- While virtualenvs are not compatible with conda packages, conda environments are *entirely* compatible with pip packages. First ``conda install pip``, and then you can ``pip install`` any available package within that environment. You can even [explicitly list pip packages](https://github.com/conda/conda-env/#environment-file-example) in conda environment files, meaning the full software stack is entirely reproducible from a single environment metadata file.\n",
    "\n",
    "That said, if you would like to use conda within your virtualenv, [it is possible](https://twitter.com/jakevdp/status/768157827655282688):\n",
    "\n",
    "```\n",
    "$ virtualenv test_conda\n",
    "\n",
    "$ source test_conda/bin/activate\n",
    "\n",
    "$ pip install conda\n",
    "\n",
    "$ conda install numpy\n",
    "```\n",
    "\n",
    "This installs conda's MKL-enabled NumPy package *within your virtualenv*.\n",
    "I wouldn't recommend this: I can't find documentation for this feature, and the result seems to be fairly brittle – for example, trying to ``conda update python`` within the virtualenv fails in a very ungraceful and unrecoverable manner, seemingly related to the symlinks that underly virtualenv's architecture.\n",
    "This appears not to be some fundamental incompatibility between conda and virtualenv, but rather related to some subtle inconsistencies in the build process, and thus is potentially fixable (see [conda Issue 1367](https://github.com/conda/conda/issues/1367) and [anaconda Issue 498](https://github.com/ContinuumIO/anaconda-issues/issues/498), for example).\n",
    "\n",
    "\n",
    "If you want to avoid these difficulties, a better idea would be to ``pip install conda`` and then [create a new conda environment](http://conda.pydata.org/docs/using/envs.html#create-an-environment) in which to install conda packages.\n",
    "For someone accustomed to ``pip``/``virtualenv``/``venv`` command syntax who wants to try conda, the conda docs include a [translation table](http://conda.pydata.org/docs/_downloads/conda-pip-virtualenv-translator.html) between ``conda`` and ``pip``/``virtualenv`` commands."
   ]
  },
  {
   "cell_type": "markdown",
   "metadata": {},
   "source": [
    "### Myth #6: Now that pip uses *wheels*, conda is no longer necessary\n",
    "\n",
    "**Reality: wheels address just one of the many challenges that prompted the development of conda, and wheels have weaknesses that Conda's binaries address.**\n",
    "\n",
    "One difficulty which drove the creation of Conda was the fact that pip could distribute only source code, not pre-compiled binary distributions, an issue that was particularly challenging for users building extension-heavy modules like NumPy and SciPy.\n",
    "After Conda had solved this problem in its own way, pip itself added support for [wheels](https://www.python.org/dev/peps/pep-0427/), a binary format designed to address this difficulty within ``pip``.\n",
    "With this issue addressed within the common tool, shouldn't Conda early-adopters now flock back to pip?\n",
    "\n",
    "Not necessarily. Distribution of cross-platform binaries was only one of the many problems solved within conda.\n",
    "Compiled binaries spotlight the other essential piece of conda: the ability to meaningfully track non-Python dependencies.\n",
    "Because pip's dependency tracking is limited to Python packages, the main way of doing this within wheels is to bundle released versions of dependencies with the Python package binary, which makes updating such dependencies painful (recent security updates to OpenSSL come to mind). Additionally, conda includes a true dependency resolver, a component which pip [currently lacks](https://github.com/pypa/pip/issues/988).\n",
    "\n",
    "For scientific users, conda also allows things like linking builds to optimized linear algebra libraries, as Continuum does with its freely-provided [MKL-enabled NumPy/SciPy](https://docs.continuum.io/mkl-optimizations/).\n",
    "Conda can even distribute non-Python build requirements, such as ``gcc``, which greatly streamlines the process of building other packages *on top* of the pre-compiled binaries it distributes.\n",
    "If you try to do this using pip's wheels, you better hope that your system has compilers and settings compatible with those used to originally build the wheel in question."
   ]
  },
  {
   "cell_type": "markdown",
   "metadata": {},
   "source": [
    "### Myth #7: conda is not open source; it is tied to a for-profit company who could start charging for the service whenever they want\n",
    "\n",
    "**Reality: conda (the package manager and build system) is 100% open-source, and Anaconda (the distribution) is nearly there as well.**\n",
    "\n",
    "In the open source world, there is (sometimes quite rightly) a fundamental distrust of for-profit entities, and the fact that Anaconda was created by [Continuum Analytics](https://www.continuum.io/) and is a free component of a [larger enterprise product](https://www.continuum.io/anaconda-subscriptions/anaconda-pro) causes some to worry.\n",
    "\n",
    "Let's set aside the fact that Continuum is, in my opinion, one of the few companies really doing open software the right way (a topic for another time).\n",
    "Ignoring that, the fact is that Conda itself – the package manager that provides the utilities to build, distribute, install, update, and manage software in a cross-platform manner – is 100% open-source, [available on GitHub](https://github.com/conda/conda) and [BSD-Licensed](https://github.com/conda/conda/blob/master/LICENSE.txt).\n",
    "Even for Anaconda (the distribution), the EULA is simply a [standard BSD license](https://docs.continuum.io/anaconda/eula), and the [toolchain used to create Anaconda](https://github.com/conda/constructor) is also 100% open-source.\n",
    "In short, there is no need to worry about intellectual property issues when using Conda.\n",
    "\n",
    "If the Anaconda/Miniconda *distributions* still worry you, rest assured: you don't need to install Anaconda or Miniconda to get ``conda``, though those are convenient avenues to its use.\n",
    "As we saw above, you can \"``pip install conda``\" to install it [via PyPI](https://pypi.python.org/pypi/conda) without ever touching Continuum's website."
   ]
  },
  {
   "cell_type": "markdown",
   "metadata": {},
   "source": [
    "### Myth #8: But Conda packages themselves are closed-source, right?\n",
    "\n",
    "**Reality: though conda's default channel is not yet entirely open, there is a community-led effort (Conda-Forge) to make conda packaging & distribution entirely open.**\n",
    "\n",
    "Historically, the package build process for the default conda channel have not been as open as they could be, and the process of getting a build updated has mostly relied on knowing someone at Continuum.\n",
    "Rumor is that this was largely because the original conda package creation process was not as well-defined and streamlined as it is today.\n",
    "\n",
    "But this is changing. Continuum is making the effort to [open their package recipes](https://github.com/ContinuumIO/anaconda-recipes), and I've been told that only a few dozen of the 500+ packages remain to be ported. These few recipes are the only remaining piece of the Anaconda *distribution* that are not entirely open.\n",
    "\n",
    "If that's not enough, there is a new community-led – not Continuum affiliated – project, introduced in early 2016, called [conda-forge](http://conda-forge.github.io/) that contains tools for the creation of community-driven builds for any package.\n",
    "Packages are maintained in the open via github, with binaries automatically built using free CI tools like [TravisCI](https://travis-ci.org/) for Mac OSX builds, [AppVeyor](https://www.appveyor.com/) for Windows builds, and [CircleCI](https://circleci.com/) for Linux builds.\n",
    "All the metadata for each package lives in a Github repository, and package updates are accomplished through merging a Github pull request ([here](https://github.com/conda-forge/vega-feedstock/pull/3/files) is an example of what a package update looks like in conda-forge).\n",
    "\n",
    "Conda-forge is **entirely community-founded and community-led**, and while conda-forge is probably not yet mature enough to completely replace the default conda channel, Continuum's founders have [publicly stated](https://twitter.com/teoliphant/status/729625025200984065) that this is a direction they would support.\n",
    "You can read more about the promise of conda-forge in Wes McKinney's recent blog post, [conda-forge and PyData's CentOS moment](http://wesmckinney.com/blog/conda-forge-centos-moment/)."
   ]
  },
  {
   "cell_type": "markdown",
   "metadata": {},
   "source": [
    "### Myth #9: OK, but if Continuum Analytics folds, conda won't work anymore right?\n",
    "\n",
    "**Reality: nothing about Conda inherently ties it to Continuum Analytics; the company serves the community by providing free hosting of build artifacts. All software distributions need to be hosted by somebody, even PyPI.**\n",
    "\n",
    "It's true that even conda-forge publishes its package builds to http://anaconda.org/, a website owned and maintained by Continuum Analytics.\n",
    "But there is nothing in Conda that *requires* this site.\n",
    "In fact, the creation of [Custom Channels](http://conda.pydata.org/docs/custom-channels.html) in conda is well-documented, and there would be nothing to stop someone from building and hosting their own private distribution using Conda as a package manager ([conda index](http://conda.pydata.org/docs/commands/build/conda-index.html) is the relevant command).\n",
    "Given the openness of conda recipes and build systems on conda-forge, it would not be all that hard to mirror all of conda-forge on your own server if you have reason to do so.\n",
    "\n",
    "If you're still worried about Continuum Analytics – a for-profit company – serving the community by hosting conda packages, you should probably be equally worried about Rackspace – a for-profit company – serving the community by hosting the [Python Package Index](http://pypi.python.org).\n",
    "In both cases, a for-profit company is integral to the *current manifestation* of the community's package management system.\n",
    "But in neither case would the demise of that company threaten the underlying architecture of the build & distribution system, which is entirely free and open source.\n",
    "If either Rackspace or Continuum were to disappear, the community would simply have to find another host and/or financial sponsor for the open distribution it relies on."
   ]
  },
  {
   "cell_type": "markdown",
   "metadata": {},
   "source": [
    "### Myth #10: Everybody should abandon (conda | pip) and use (pip | conda) instead!\n",
    "\n",
    "**Reality: pip and conda serve different needs, and we should be focused less on how they compete and more on how they work together.**\n",
    "\n",
    "As mentioned in Myth #2, Conda and pip are different projects with different intended audiences: pip installs *python* packages within *any* environment; conda installs *any* package within *conda* environments. Given the lofty ideals raised in the *Zen of Python*, one might hope that pip and conda could somehow be combined, so that there would be one and only one obvious way of installing packages.\n",
    "\n",
    "But this will never happen. The goals of the two projects are just too different. Unless the pip project is broadly re-scoped, it will *never* be able to meaningfully install and track all the non-Python packages that conda does: the architecture is Python-specific and (rightly) Python-focused. Pip, along with PyPI, aims to be a flexible publication & distribution platform and manager for Python packages, and it does phenomenally well at that.\n",
    "\n",
    "Likewise, unless the conda package is broadly re-scoped, it will *never* make sense for it to replace pip/PyPI as a general publishing & distribution platform for Python code.\n",
    "At its very core, conda concerns itself with the type of detailed dependency tracking that is required for robustly running a complex multi-language software stack across multiple platforms.\n",
    "Every installation artifact in conda's repositories is tied to an *exact* dependency chain: by design, it wouldn't allow you to, say, substitute Jython for Python in a given package.\n",
    "You could certainly use conda to build a Jython software stack, but each package would require a new Jython-specific installation artifact – that is what is required to maintain the strict dependency chain that conda users rely on. Pip is much more flexible here, but once cost of that is its inability to precisely define and resolve dependencies as conda does.\n",
    "\n",
    "Finally, the focus on pip vs. conda entirely misses the broad swath of purpose-designed redistributors of Python code. From platform-specific package managers like [apt](https://wiki.debian.org/Apt), [yum](http://www.linuxcommand.org/man_pages/yum8.html), [macports](https://www.macports.org/), and [homebrew](http://brew.sh/), to cross-platform tools like [bento](http://cournape.github.io/Bento/), [buildout](http://www.buildout.org/en/latest/), [hashdist](http://hashdist.readthedocs.io/en/latest/), and [spack](http://software.llnl.gov/spack/), there are a wide range of specific packaging solutions aimed at installing Python (and other) packages for particular users.\n",
    "It would be more fruitful for us to view these, as the [Python Packaging Authority does](https://packaging.python.org/key_projects/), not as competitors to pip/PyPI, but as downstream tools that can take advantage of the heroic efforts of all those who have developed and maintained pip, PyPI, and associated toolchain."
   ]
  },
  {
   "cell_type": "markdown",
   "metadata": {},
   "source": [
    "## Where to Go from Here?\n",
    "\n",
    "So it seems we're left with two packaging solutions which are distinct, but yet have broad overlap for many Python users (i.e. when installing Python packages in isolated environments). So where should the community go from here?\n",
    "I think the main thing we can do is make sure the projects (1) work together as well as possible, and (2) learn from each other's successes."
   ]
  },
  {
   "cell_type": "markdown",
   "metadata": {},
   "source": [
    "### Conda\n",
    "\n",
    "As mentioned above, conda is already has a fully open toolchain, and is on a steady trend toward fully open packages (but is not entirely there just yet).\n",
    "An obvious direction is to push forward on community development and maintenance of the conda stack via conda-forge, perhaps eventually using it to replace conda's current default channel.\n",
    "\n",
    "As we push forward on this, I believe the conda and conda-forge community could benefit from imitating the clear and open governance model of the Python Packaging Authority.\n",
    "For example, PyPA has an open governance model with [explicit goals](https://www.pypa.io/en/latest/future/), a clear [roadmap](https://www.pypa.io/en/latest/roadmap/) for new developments and features, and well-defined channels of communication and discussion, and community oversight of the full pip/PyPI system from the ground up.\n",
    "\n",
    "With conda and conda-forge, on the other hand, the code (and soon all recipes) is open, but the model for governance and control of the system is far less explicit.\n",
    "Given the importance of conda particularly in the PyData community, it would benefit all of this to clarify this somehow – perhaps under the umbrella of the [NumFOCUS](http://www.numfocus.org/) organization.\n",
    "\n",
    "That being said, folks involved with conda-forge have told me that this is currently being addressed by the core team, including generation of governing documents, a code of conduct, and framework for enhancement proposals."
   ]
  },
  {
   "cell_type": "markdown",
   "metadata": {},
   "source": [
    "### PyPI/pip\n",
    "\n",
    "While the Python Package Index seems to have its governance in order, there are aspects of conda/conda-forge that I think would benefit it.\n",
    "For example, currently most Python packages can be loaded to conda-forge with just a few steps:\n",
    "\n",
    "1. Post a public code release somewhere on the web (on github, bitbucket, PyPI, etc.)\n",
    "2. Create a recipe/metadata file that points to this code and lists dependencies\n",
    "3. Open a pull request on [conda-forge/staged-recipes](https://github.com/conda-forge/staged-recipes)\n",
    "\n",
    "And that's it. Once the pull request is merged, the binary builds on Windows, OSX, and Linux are *automatically* created and loaded to the conda-forge channel.\n",
    "Additionally, managing and updating the package takes place transparently via github, where package updates can be reviewed by collaborators and tested by CI systems *before they go live*.\n",
    "\n",
    "I find this process far preferable to the (by comparison relatively opaque and manual) process of publishing to PyPI, which is mostly done by a single user working in private at a local terminal.\n",
    "Perhaps PyPI could take advantage of conda-forge's existing build system, and creating an option to automatically build multi-platform wheels and source distributions, and automatically push them to PyPI in a single transparent command. It is [definitely a possibility](https://twitter.com/ncoghlan_dev/status/765583477597089792).\n"
   ]
  },
  {
   "cell_type": "markdown",
   "metadata": {},
   "source": [
    "## Postscript: Which Tool Should I Use?\n",
    "\n",
    "I hope I've convinced you that conda and pip both have a role to play within the Python community. With that behind us, which should you use if you're starting out? The answer depends on what you want to do:\n",
    "\n",
    "**If you have an existing system Python installation and you want to install packages in or on it, use pip+virtualenv**. For example, perhaps you used ``apt`` or another system package manager to install Python, along with some packages linked to system tools that are not (yet) easily installable via conda or pip. Pip+virtualenv will allow you to install new Python packages and build environments on top of that existing distribution, and you should be able to rely on your system package manager for any difficult-to-install dependencies.\n",
    "\n",
    "**If you want to flexibly manage a multi-language software stack and don't mind using an isolated environment, use conda**. Conda's multi-language dependency management and cross-platform binary installations can do things in this situation that pip cannot do.\n",
    "A huge benefit is that for most packages, the result will be immediately compatible with multiple operating systems.\n",
    "\n",
    "**If you want to install Python packages within an Isolated environment, pip+virtualenv and conda+conda-env are mostly interchangeable**. This is the overlap region where both tools shine in their own way. That being said, I tend to prefer conda in this situation: Conda's uniform, cross-platform, full-stack management of multiple parallel Python environments with robust dependency management has proven to be an *incredible* time-saver in my research, my teaching, and my software development work.\n",
    "Additionally, I find that my needs and the needs of my colleagues more often stray into areas of conda's strengths (management of non-Python tools and dependencies) than into areas of pip's strengths (environment-agnostic Python package management).\n",
    "\n",
    "As an example, years ago I spent nearly a quarter with a colleague trying to install the complicated (non-Python) software stack that powers the [megaman package](https://github.com/mmp2/megaman), which we were developing together.\n",
    "The result of all our efforts was a single non-reproducible working stack on a single machine.\n",
    "Then conda-forge was introduced. We went through the process again, this time creating a [conda recipe](https://github.com/conda-forge/staged-recipes/pull/277/files), from which a [conda-forge feedstock](https://github.com/conda-forge/megaman-feedstock) was built.\n",
    "We now have a cross-platform solution that will install a working version of the package and its dependencies with a single command, in seconds, on nearly any computer.\n",
    "If there is a way to build and distribute software with that kind of dependency graph seamlessly with pip+PyPI, I haven't seen it."
   ]
  },
  {
   "cell_type": "markdown",
   "metadata": {},
   "source": [
    "---"
   ]
  },
  {
   "cell_type": "markdown",
   "metadata": {},
   "source": [
    "If you've read this far, I hope you've found this discussion useful.\n",
    "My own desire is that we as a community can continue to rally around both these tools, improving them for the benefit of current and future users.\n",
    "Python packaging has improved immensely in the last decade, and I'm excited to see where it will go from here.\n",
    "\n",
    "*Thanks to Filipe Fernandez, Aaron Meurer, Bryan van de Ven, and Phil Elson for helpful feedback on early drafts of this post. As always, any mistakes are my own.*"
   ]
  }
 ],
 "metadata": {
  "kernelspec": {
   "display_name": "Python [default]",
   "language": "python",
   "name": "python3"
  },
  "language_info": {
   "codemirror_mode": {
    "name": "ipython",
    "version": 3
   },
   "file_extension": ".py",
   "mimetype": "text/x-python",
   "name": "python",
   "nbconvert_exporter": "python",
   "pygments_lexer": "ipython3",
   "version": "3.5.1"
  }
 },
 "nbformat": 4,
 "nbformat_minor": 0
}
