{
 "cells": [
  {
   "cell_type": "markdown",
   "metadata": {},
   "source": [
    "# Apache Solr and Elasticsearch"
   ]
  },
  {
   "cell_type": "markdown",
   "metadata": {},
   "source": [
    "Note: The RenderJSON() function in this Notebook is a 3rd party script, you can find here (along with an installation guide): https://www.reddit.com/r/IPython/comments/34t4m7/lpt_print_json_in_collapsible_format_in_ipython/"
   ]
  },
  {
   "cell_type": "markdown",
   "metadata": {},
   "source": [
    "## Part I &mdash; Apache Solr\n",
    "\n",
    "Main site: http://lucene.apache.org/solr/\n",
    "\n",
    "Public Apache Solr examples: http://wiki.apache.org/solr/PublicServers"
   ]
  },
  {
   "cell_type": "markdown",
   "metadata": {},
   "source": [
    "### Install Apache Solr\n",
    "\n",
    "Requirement: JDK 6 or above\n",
    "\n",
    "* Download from http://lucene.apache.org/solr/\n",
    "* extract it: `tar -zxvf solr-5.3.1.tgz`\n",
    "* start Solr:\n",
    "\n",
    "```\n",
    "$ cp path/to/solr-5.3.1\n",
    "$ bin/solr -e techproducts\n",
    "```\n",
    "* try it: http://localhost:8983/solr/#/techproducts\n"
   ]
  },
  {
   "cell_type": "code",
   "execution_count": 3,
   "metadata": {
    "collapsed": false
   },
   "outputs": [],
   "source": [
    "import urllib.request\n",
    "import json\n",
    "import requests\n",
    "\n",
    "def getContent(url):\n",
    "  ufile = urllib.request.urlopen(url)\n",
    "  return ufile.read().decode('utf8')\n",
    "  \n",
    "def getJson(url):\n",
    "  text = json.loads(getContent(url))\n",
    "  return text\n",
    "\n",
    "def getEC(postdata):\n",
    "  req = requests.post(\"http://localhost:9200/bank/_search\", data = postdata)\n",
    "  return req.json()\n",
    "\n",
    "def printSource(postdata):\n",
    "  data = getEC(postdata)\n",
    "  for hit in data['hits']['hits']:\n",
    "    print(hit['_source'])"
   ]
  },
  {
   "cell_type": "markdown",
   "metadata": {},
   "source": [
    "Select all: `q=*:*`\n",
    "where 1st `*` means every field, 2nd `*` means every value\n",
    "```\n",
    "/select?q=*:*&wt=json&indent=true\n",
    "```"
   ]
  },
  {
   "cell_type": "code",
   "execution_count": 2,
   "metadata": {
    "collapsed": false
   },
   "outputs": [
    {
     "data": {
      "text/html": [
       "<div id=\"6ffbb79e-cfbe-44a2-802e-6b9e6b46938e\" style=\"height: 600px; width:100%;\"></div>"
      ]
     },
     "metadata": {},
     "output_type": "display_data"
    },
    {
     "data": {
      "application/javascript": [
       "\n",
       "        require([\"https://rawgit.com/caldwell/renderjson/master/renderjson.js\"], function() {\n",
       "          document.getElementById('6ffbb79e-cfbe-44a2-802e-6b9e6b46938e').appendChild(renderjson({\"responseHeader\": {\"status\": 0, \"params\": {\"wt\": \"json\", \"q\": \"*:*\", \"indent\": \"true\"}, \"QTime\": 2}, \"response\": {\"numFound\": 32, \"docs\": [{\"features\": [\"No accents here\", \"This is an e acute: \\u00e9\", \"eaiou with circumflexes: \\u00ea\\u00e2\\u00ee\\u00f4\\u00fb\", \"eaiou with umlauts: \\u00eb\\u00e4\\u00ef\\u00f6\\u00fc\", \"tag with escaped chars: <nicetag/>\", \"escaped ampersand: Bonnie & Clyde\", \"Outside the BMP:\\ud800\\udf08 codepoint=10308, a circle with an x inside. UTF8=f0908c88 UTF16=d800 df08\"], \"name\": \"Test with some UTF-8 encoded characters\", \"inStock\": true, \"id\": \"UTF8TEST\", \"cat\": [\"software\", \"search\"], \"price\": 0.0, \"price_c\": \"0.0,USD\", \"_version_\": 1519187462403915776, \"manu\": \"Apache Software Foundation\"}, {\"features\": [\"Coins and notes\"], \"name\": \"One Dollar\", \"manu_id_s\": \"boa\", \"id\": \"USD\", \"cat\": [\"currency\"], \"inStock\": true, \"price_c\": \"1,USD\", \"_version_\": 1519187462438518784, \"manu\": \"Bank of America\"}, {\"features\": [\"Coins and notes\"], \"name\": \"One Euro\", \"manu_id_s\": \"eu\", \"id\": \"EUR\", \"cat\": [\"currency\"], \"inStock\": true, \"price_c\": \"1,EUR\", \"_version_\": 1519187462440615936, \"manu\": \"European Union\"}, {\"features\": [\"Coins and notes\"], \"name\": \"One British Pound\", \"manu_id_s\": \"uk\", \"id\": \"GBP\", \"cat\": [\"currency\"], \"inStock\": true, \"price_c\": \"1,GBP\", \"_version_\": 1519187462442713088, \"manu\": \"U.K.\"}, {\"features\": [\"Coins and notes\"], \"name\": \"One Krone\", \"manu_id_s\": \"nor\", \"id\": \"NOK\", \"cat\": [\"currency\"], \"inStock\": true, \"price_c\": \"1,NOK\", \"_version_\": 1519187462443761664, \"manu\": \"Bank of Norway\"}, {\"features\": [\"7200RPM, 8MB cache, IDE Ultra ATA-133\", \"NoiseGuard, SilentSeek technology, Fluid Dynamic Bearing (FDB) motor\"], \"name\": \"Samsung SpinPoint P120 SP2514N - hard drive - 250 GB - ATA-133\", \"store\": \"35.0752,-97.032\", \"manu_id_s\": \"samsung\", \"id\": \"SP2514N\", \"cat\": [\"electronics\", \"hard drive\"], \"_version_\": 1519187462451101696, \"popularity\": 6, \"manufacturedate_dt\": \"2006-02-13T15:26:37Z\", \"price\": 92.0, \"inStock\": true, \"price_c\": \"92.0,USD\", \"manu\": \"Samsung Electronics Co. Ltd.\"}, {\"features\": [\"SATA 3.0Gb/s, NCQ\", \"8.5ms seek\", \"16MB cache\"], \"name\": \"Maxtor DiamondMax 11 - hard drive - 500 GB - SATA-300\", \"store\": \"45.17614,-93.87341\", \"manu_id_s\": \"maxtor\", \"id\": \"6H500F0\", \"cat\": [\"electronics\", \"hard drive\"], \"_version_\": 1519187462457393152, \"popularity\": 6, \"manufacturedate_dt\": \"2006-02-13T15:26:37Z\", \"price\": 350.0, \"inStock\": true, \"price_c\": \"350.0,USD\", \"manu\": \"Maxtor Corp.\"}, {\"features\": [\"Advanced Full-Text Search Capabilities using Lucene\", \"Optimized for High Volume Web Traffic\", \"Standards Based Open Interfaces - XML and HTTP\", \"Comprehensive HTML Administration Interfaces\", \"Scalability - Efficient Replication to other Solr Search Servers\", \"Flexible and Adaptable with XML configuration and Schema\", \"Good unicode support: h\\u00e9llo (hello with an accent over the e)\"], \"name\": \"Solr, the Enterprise Search Server\", \"inStock\": true, \"id\": \"SOLR1000\", \"cat\": [\"software\", \"search\"], \"price\": 0.0, \"price_c\": \"0.0,USD\", \"popularity\": 10, \"incubationdate_dt\": \"2006-01-17T00:00:00Z\", \"_version_\": 1519187462465781760, \"manu\": \"Apache Software Foundation\"}, {\"features\": [\"Multifunction ink-jet color photo printer\", \"Flatbed scanner, optical scan resolution of 1,200 x 2,400 dpi\", \"2.5\\\" color LCD preview screen\", \"Duplex Copying\", \"Printing speed up to 29ppm black, 19ppm color\", \"Hi-Speed USB\", \"memory card: CompactFlash, Micro Drive, SmartMedia, Memory Stick, Memory Stick Pro, SD Card, and MultiMediaCard\"], \"name\": \"Canon PIXMA MP500 All-In-One Photo Printer\", \"store\": \"45.19214,-93.89941\", \"manu_id_s\": \"canon\", \"id\": \"0579B002\", \"inStock\": true, \"cat\": [\"electronics\", \"multifunction printer\", \"printer\", \"scanner\", \"copier\"], \"_version_\": 1519187462482558976, \"popularity\": 6, \"weight\": 352.0, \"price\": 179.99, \"price_c\": \"179.99,USD\", \"manu\": \"Canon Inc.\"}, {\"features\": [\"car power adapter, white\"], \"name\": \"Belkin Mobile Power Cord for iPod w/ Dock\", \"store\": \"45.18014,-93.87741\", \"manu_id_s\": \"belkin\", \"id\": \"F8V7067-APL-KIT\", \"inStock\": false, \"cat\": [\"electronics\", \"connector\"], \"_version_\": 1519187462493044736, \"popularity\": 1, \"manufacturedate_dt\": \"2005-08-01T16:30:25Z\", \"weight\": 4.0, \"price\": 19.95, \"price_c\": \"19.95,USD\", \"manu\": \"Belkin\"}], \"start\": 0}}))\n",
       "        });\n",
       "        "
      ]
     },
     "metadata": {},
     "output_type": "display_data"
    }
   ],
   "source": [
    "RenderJSON(getJson(\"http://localhost:8983/solr/techproducts/select?q=*%3A*&wt=json&indent=true\"))"
   ]
  },
  {
   "cell_type": "markdown",
   "metadata": {},
   "source": [
    "Get more: `rows=15` (~ LIMIT in SQL)\n",
    "```\n",
    "/select?q=*:*&rows=15\n",
    "```"
   ]
  },
  {
   "cell_type": "code",
   "execution_count": 3,
   "metadata": {
    "collapsed": false,
    "scrolled": true
   },
   "outputs": [
    {
     "data": {
      "text/html": [
       "<div id=\"a6bd0059-9e51-4177-94ed-f228c408d80f\" style=\"height: 600px; width:100%;\"></div>"
      ]
     },
     "metadata": {},
     "output_type": "display_data"
    },
    {
     "data": {
      "application/javascript": [
       "\n",
       "        require([\"https://rawgit.com/caldwell/renderjson/master/renderjson.js\"], function() {\n",
       "          document.getElementById('a6bd0059-9e51-4177-94ed-f228c408d80f').appendChild(renderjson({\"responseHeader\": {\"status\": 0, \"params\": {\"wt\": \"json\", \"rows\": \"15\", \"q\": \"*:*\"}, \"QTime\": 0}, \"response\": {\"numFound\": 32, \"docs\": [{\"features\": [\"No accents here\", \"This is an e acute: \\u00e9\", \"eaiou with circumflexes: \\u00ea\\u00e2\\u00ee\\u00f4\\u00fb\", \"eaiou with umlauts: \\u00eb\\u00e4\\u00ef\\u00f6\\u00fc\", \"tag with escaped chars: <nicetag/>\", \"escaped ampersand: Bonnie & Clyde\", \"Outside the BMP:\\ud800\\udf08 codepoint=10308, a circle with an x inside. UTF8=f0908c88 UTF16=d800 df08\"], \"name\": \"Test with some UTF-8 encoded characters\", \"inStock\": true, \"id\": \"UTF8TEST\", \"cat\": [\"software\", \"search\"], \"price\": 0.0, \"price_c\": \"0.0,USD\", \"_version_\": 1519187462403915776, \"manu\": \"Apache Software Foundation\"}, {\"features\": [\"Coins and notes\"], \"name\": \"One Dollar\", \"manu_id_s\": \"boa\", \"id\": \"USD\", \"cat\": [\"currency\"], \"inStock\": true, \"price_c\": \"1,USD\", \"_version_\": 1519187462438518784, \"manu\": \"Bank of America\"}, {\"features\": [\"Coins and notes\"], \"name\": \"One Euro\", \"manu_id_s\": \"eu\", \"id\": \"EUR\", \"cat\": [\"currency\"], \"inStock\": true, \"price_c\": \"1,EUR\", \"_version_\": 1519187462440615936, \"manu\": \"European Union\"}, {\"features\": [\"Coins and notes\"], \"name\": \"One British Pound\", \"manu_id_s\": \"uk\", \"id\": \"GBP\", \"cat\": [\"currency\"], \"inStock\": true, \"price_c\": \"1,GBP\", \"_version_\": 1519187462442713088, \"manu\": \"U.K.\"}, {\"features\": [\"Coins and notes\"], \"name\": \"One Krone\", \"manu_id_s\": \"nor\", \"id\": \"NOK\", \"cat\": [\"currency\"], \"inStock\": true, \"price_c\": \"1,NOK\", \"_version_\": 1519187462443761664, \"manu\": \"Bank of Norway\"}, {\"features\": [\"7200RPM, 8MB cache, IDE Ultra ATA-133\", \"NoiseGuard, SilentSeek technology, Fluid Dynamic Bearing (FDB) motor\"], \"name\": \"Samsung SpinPoint P120 SP2514N - hard drive - 250 GB - ATA-133\", \"store\": \"35.0752,-97.032\", \"manu_id_s\": \"samsung\", \"id\": \"SP2514N\", \"cat\": [\"electronics\", \"hard drive\"], \"_version_\": 1519187462451101696, \"popularity\": 6, \"manufacturedate_dt\": \"2006-02-13T15:26:37Z\", \"price\": 92.0, \"inStock\": true, \"price_c\": \"92.0,USD\", \"manu\": \"Samsung Electronics Co. Ltd.\"}, {\"features\": [\"SATA 3.0Gb/s, NCQ\", \"8.5ms seek\", \"16MB cache\"], \"name\": \"Maxtor DiamondMax 11 - hard drive - 500 GB - SATA-300\", \"store\": \"45.17614,-93.87341\", \"manu_id_s\": \"maxtor\", \"id\": \"6H500F0\", \"cat\": [\"electronics\", \"hard drive\"], \"_version_\": 1519187462457393152, \"popularity\": 6, \"manufacturedate_dt\": \"2006-02-13T15:26:37Z\", \"price\": 350.0, \"inStock\": true, \"price_c\": \"350.0,USD\", \"manu\": \"Maxtor Corp.\"}, {\"features\": [\"Advanced Full-Text Search Capabilities using Lucene\", \"Optimized for High Volume Web Traffic\", \"Standards Based Open Interfaces - XML and HTTP\", \"Comprehensive HTML Administration Interfaces\", \"Scalability - Efficient Replication to other Solr Search Servers\", \"Flexible and Adaptable with XML configuration and Schema\", \"Good unicode support: h\\u00e9llo (hello with an accent over the e)\"], \"name\": \"Solr, the Enterprise Search Server\", \"inStock\": true, \"id\": \"SOLR1000\", \"cat\": [\"software\", \"search\"], \"price\": 0.0, \"price_c\": \"0.0,USD\", \"popularity\": 10, \"incubationdate_dt\": \"2006-01-17T00:00:00Z\", \"_version_\": 1519187462465781760, \"manu\": \"Apache Software Foundation\"}, {\"features\": [\"Multifunction ink-jet color photo printer\", \"Flatbed scanner, optical scan resolution of 1,200 x 2,400 dpi\", \"2.5\\\" color LCD preview screen\", \"Duplex Copying\", \"Printing speed up to 29ppm black, 19ppm color\", \"Hi-Speed USB\", \"memory card: CompactFlash, Micro Drive, SmartMedia, Memory Stick, Memory Stick Pro, SD Card, and MultiMediaCard\"], \"name\": \"Canon PIXMA MP500 All-In-One Photo Printer\", \"store\": \"45.19214,-93.89941\", \"manu_id_s\": \"canon\", \"id\": \"0579B002\", \"inStock\": true, \"cat\": [\"electronics\", \"multifunction printer\", \"printer\", \"scanner\", \"copier\"], \"_version_\": 1519187462482558976, \"popularity\": 6, \"weight\": 352.0, \"price\": 179.99, \"price_c\": \"179.99,USD\", \"manu\": \"Canon Inc.\"}, {\"features\": [\"car power adapter, white\"], \"name\": \"Belkin Mobile Power Cord for iPod w/ Dock\", \"store\": \"45.18014,-93.87741\", \"manu_id_s\": \"belkin\", \"id\": \"F8V7067-APL-KIT\", \"inStock\": false, \"cat\": [\"electronics\", \"connector\"], \"_version_\": 1519187462493044736, \"popularity\": 1, \"manufacturedate_dt\": \"2005-08-01T16:30:25Z\", \"weight\": 4.0, \"price\": 19.95, \"price_c\": \"19.95,USD\", \"manu\": \"Belkin\"}, {\"features\": [\"car power adapter for iPod, white\"], \"name\": \"iPod & iPod Mini USB 2.0 Cable\", \"store\": \"37.7752,-122.4232\", \"manu_id_s\": \"belkin\", \"id\": \"IW-02\", \"inStock\": false, \"cat\": [\"electronics\", \"connector\"], \"_version_\": 1519187462499336192, \"popularity\": 1, \"manufacturedate_dt\": \"2006-02-14T23:55:59Z\", \"weight\": 2.0, \"price\": 11.5, \"price_c\": \"11.50,USD\", \"manu\": \"Belkin\"}, {\"features\": [\"3x zoop, 7.1 megapixel Digital ELPH\", \"movie clips up to 640x480 @30 fps\", \"2.0\\\" TFT LCD, 118,000 pixels\", \"built in flash, red-eye reduction\"], \"name\": \"Canon PowerShot SD500\", \"store\": \"45.19614,-93.90341\", \"manu_id_s\": \"canon\", \"id\": \"9885A004\", \"inStock\": true, \"cat\": [\"electronics\", \"camera\"], \"_version_\": 1519187462506676224, \"popularity\": 7, \"manufacturedate_dt\": \"2006-02-13T15:26:37Z\", \"includes\": \"32MB SD card, USB cable, AV cable, battery\", \"weight\": 6.4, \"price\": 329.95, \"price_c\": \"329.95,USD\", \"manu\": \"Canon Inc.\"}, {\"features\": [\"NVIDIA GeForce 7800 GTX GPU/VPU clocked at 486MHz\", \"256MB GDDR3 Memory clocked at 1.35GHz\", \"PCI Express x16\", \"Dual DVI connectors, HDTV out, video input\", \"OpenGL 2.0, DirectX 9.0\"], \"name\": \"ASUS Extreme N7800GTX/2DHTV (256 MB)\", \"store\": \"40.7143,-74.006\", \"manu_id_s\": \"asus\", \"id\": \"EN7800GTX/2DHTV/256M\", \"inStock\": false, \"cat\": [\"electronics\", \"graphics card\"], \"_version_\": 1519187462519259136, \"popularity\": 7, \"manufacturedate_dt\": \"2006-02-13T00:00:00Z\", \"weight\": 16.0, \"price\": 479.95, \"price_c\": \"479.95,USD\", \"manu\": \"ASUS Computer Inc.\"}, {\"features\": [\"ATI RADEON X1900 GPU/VPU clocked at 650MHz\", \"512MB GDDR3 SDRAM clocked at 1.55GHz\", \"PCI Express x16\", \"dual DVI, HDTV, svideo, composite out\", \"OpenGL 2.0, DirectX 9.0\"], \"name\": \"ATI Radeon X1900 XTX 512 MB PCIE Video Card\", \"store\": \"40.7143,-74.006\", \"manu_id_s\": \"ati\", \"id\": \"100-435805\", \"inStock\": false, \"cat\": [\"electronics\", \"graphics card\"], \"_version_\": 1519187462524502016, \"popularity\": 7, \"manufacturedate_dt\": \"2006-02-13T00:00:00Z\", \"weight\": 48.0, \"price\": 649.99, \"price_c\": \"649.99,USD\", \"manu\": \"ATI Technologies\"}, {\"features\": [\"30\\\" TFT active matrix LCD, 2560 x 1600, .25mm dot pitch, 700:1 contrast\"], \"name\": \"Dell Widescreen UltraSharp 3007WFP\", \"store\": \"43.17614,-90.57341\", \"manu_id_s\": \"dell\", \"id\": \"3007WFP\", \"inStock\": true, \"cat\": [\"electronics and computer1\"], \"_version_\": 1519187462531842048, \"popularity\": 6, \"includes\": \"USB cable\", \"weight\": 401.6, \"price\": 2199.0, \"price_c\": \"2199.0,USD\", \"manu\": \"Dell, Inc.\"}], \"start\": 0}}))\n",
       "        });\n",
       "        "
      ]
     },
     "metadata": {},
     "output_type": "display_data"
    }
   ],
   "source": [
    "RenderJSON(getJson(\"http://localhost:8983/solr/techproducts/select?q=*%3A*&rows=15&wt=json\"))"
   ]
  },
  {
   "cell_type": "markdown",
   "metadata": {},
   "source": [
    "Paginate: `start=10` (~ OFFSET in SQL)\n",
    "```\n",
    "/select?q=*:*&start=10rows=10\n",
    "```"
   ]
  },
  {
   "cell_type": "code",
   "execution_count": 4,
   "metadata": {
    "collapsed": false
   },
   "outputs": [
    {
     "data": {
      "text/html": [
       "<div id=\"9ae9e5eb-1c74-4f60-8c70-185d8b9e3471\" style=\"height: 600px; width:100%;\"></div>"
      ]
     },
     "metadata": {},
     "output_type": "display_data"
    },
    {
     "data": {
      "application/javascript": [
       "\n",
       "        require([\"https://rawgit.com/caldwell/renderjson/master/renderjson.js\"], function() {\n",
       "          document.getElementById('9ae9e5eb-1c74-4f60-8c70-185d8b9e3471').appendChild(renderjson({\"responseHeader\": {\"status\": 0, \"params\": {\"wt\": \"json\", \"rows\": \"10\", \"start\": \"10\", \"q\": \"*:*\"}, \"QTime\": 0}, \"response\": {\"numFound\": 32, \"docs\": [{\"features\": [\"car power adapter for iPod, white\"], \"name\": \"iPod & iPod Mini USB 2.0 Cable\", \"store\": \"37.7752,-122.4232\", \"manu_id_s\": \"belkin\", \"id\": \"IW-02\", \"inStock\": false, \"cat\": [\"electronics\", \"connector\"], \"_version_\": 1519187462499336192, \"popularity\": 1, \"manufacturedate_dt\": \"2006-02-14T23:55:59Z\", \"weight\": 2.0, \"price\": 11.5, \"price_c\": \"11.50,USD\", \"manu\": \"Belkin\"}, {\"features\": [\"3x zoop, 7.1 megapixel Digital ELPH\", \"movie clips up to 640x480 @30 fps\", \"2.0\\\" TFT LCD, 118,000 pixels\", \"built in flash, red-eye reduction\"], \"name\": \"Canon PowerShot SD500\", \"store\": \"45.19614,-93.90341\", \"manu_id_s\": \"canon\", \"id\": \"9885A004\", \"inStock\": true, \"cat\": [\"electronics\", \"camera\"], \"_version_\": 1519187462506676224, \"popularity\": 7, \"manufacturedate_dt\": \"2006-02-13T15:26:37Z\", \"includes\": \"32MB SD card, USB cable, AV cable, battery\", \"weight\": 6.4, \"price\": 329.95, \"price_c\": \"329.95,USD\", \"manu\": \"Canon Inc.\"}, {\"features\": [\"NVIDIA GeForce 7800 GTX GPU/VPU clocked at 486MHz\", \"256MB GDDR3 Memory clocked at 1.35GHz\", \"PCI Express x16\", \"Dual DVI connectors, HDTV out, video input\", \"OpenGL 2.0, DirectX 9.0\"], \"name\": \"ASUS Extreme N7800GTX/2DHTV (256 MB)\", \"store\": \"40.7143,-74.006\", \"manu_id_s\": \"asus\", \"id\": \"EN7800GTX/2DHTV/256M\", \"inStock\": false, \"cat\": [\"electronics\", \"graphics card\"], \"_version_\": 1519187462519259136, \"popularity\": 7, \"manufacturedate_dt\": \"2006-02-13T00:00:00Z\", \"weight\": 16.0, \"price\": 479.95, \"price_c\": \"479.95,USD\", \"manu\": \"ASUS Computer Inc.\"}, {\"features\": [\"ATI RADEON X1900 GPU/VPU clocked at 650MHz\", \"512MB GDDR3 SDRAM clocked at 1.55GHz\", \"PCI Express x16\", \"dual DVI, HDTV, svideo, composite out\", \"OpenGL 2.0, DirectX 9.0\"], \"name\": \"ATI Radeon X1900 XTX 512 MB PCIE Video Card\", \"store\": \"40.7143,-74.006\", \"manu_id_s\": \"ati\", \"id\": \"100-435805\", \"inStock\": false, \"cat\": [\"electronics\", \"graphics card\"], \"_version_\": 1519187462524502016, \"popularity\": 7, \"manufacturedate_dt\": \"2006-02-13T00:00:00Z\", \"weight\": 48.0, \"price\": 649.99, \"price_c\": \"649.99,USD\", \"manu\": \"ATI Technologies\"}, {\"features\": [\"30\\\" TFT active matrix LCD, 2560 x 1600, .25mm dot pitch, 700:1 contrast\"], \"name\": \"Dell Widescreen UltraSharp 3007WFP\", \"store\": \"43.17614,-90.57341\", \"manu_id_s\": \"dell\", \"id\": \"3007WFP\", \"inStock\": true, \"cat\": [\"electronics and computer1\"], \"_version_\": 1519187462531842048, \"popularity\": 6, \"includes\": \"USB cable\", \"weight\": 401.6, \"price\": 2199.0, \"price_c\": \"2199.0,USD\", \"manu\": \"Dell, Inc.\"}, {\"features\": [\"No accents here\", \"\\u8fd9\\u662f\\u4e00\\u4e2a\\u529f\\u80fd\", \"This is a feature (translated)\", \"\\u8fd9\\u4efd\\u6587\\u4ef6\\u662f\\u5f88\\u6709\\u5149\\u6cfd\", \"This document is very shiny (translated)\"], \"name\": \"Test with some GB18030 encoded characters\", \"inStock\": true, \"id\": \"GB18030TEST\", \"price\": 0.0, \"price_c\": \"0.0,USD\", \"_version_\": 1519187462561202176}, {\"features\": [\"iTunes, Podcasts, Audiobooks\", \"Stores up to 15,000 songs, 25,000 photos, or 150 hours of video\", \"2.5-inch, 320x240 color TFT LCD display with LED backlight\", \"Up to 20 hours of battery life\", \"Plays AAC, MP3, WAV, AIFF, Audible, Apple Lossless, H.264 video\", \"Notes, Calendar, Phone book, Hold button, Date display, Photo wallet, Built-in games, JPEG photo playback, Upgradeable firmware, USB 2.0 compatibility, Playback speed control, Rechargeable capability, Battery level indication\"], \"name\": \"Apple 60 GB iPod with Video Playback Black\", \"store\": \"37.7752,-100.0232\", \"manu_id_s\": \"apple\", \"id\": \"MA147LL/A\", \"inStock\": true, \"cat\": [\"electronics\", \"music\"], \"_version_\": 1519187462567493632, \"popularity\": 10, \"manufacturedate_dt\": \"2005-10-12T08:00:00Z\", \"includes\": \"earbud headphones, USB cable\", \"weight\": 5.5, \"price\": 399.0, \"price_c\": \"399.00,USD\", \"manu\": \"Apple Computer Inc.\"}, {\"features\": [\"CAS latency 2,\\t2-3-3-6 timing, 2.75v, unbuffered, heat-spreader\"], \"name\": \"CORSAIR  XMS 2GB (2 x 1GB) 184-Pin DDR SDRAM Unbuffered DDR 400 (PC 3200) Dual Channel Kit System Memory - Retail\", \"store\": \"37.7752,-122.4232\", \"manu_id_s\": \"corsair\", \"id\": \"TWINX2048-3200PRO\", \"cat\": [\"electronics\", \"memory\"], \"_version_\": 1519187462576930816, \"popularity\": 5, \"manufacturedate_dt\": \"2006-02-13T15:26:37Z\", \"price\": 185.0, \"inStock\": true, \"price_c\": \"185.00,USD\", \"manu\": \"Corsair Microsystems Inc.\", \"payloads\": \"electronics|6.0 memory|3.0\"}, {\"name\": \"CORSAIR ValueSelect 1GB 184-Pin DDR SDRAM Unbuffered DDR 400 (PC 3200) System Memory - Retail\", \"store\": \"37.7752,-100.0232\", \"manu_id_s\": \"corsair\", \"id\": \"VS1GB400C3\", \"cat\": [\"electronics\", \"memory\"], \"_version_\": 1519187462582173696, \"popularity\": 7, \"manufacturedate_dt\": \"2006-02-13T15:26:37Z\", \"price\": 74.99, \"inStock\": true, \"price_c\": \"74.99,USD\", \"manu\": \"Corsair Microsystems Inc.\", \"payloads\": \"electronics|4.0 memory|2.0\"}, {\"features\": [\"CAS latency 3,\\t 2.7v\"], \"name\": \"A-DATA V-Series 1GB 184-Pin DDR SDRAM Unbuffered DDR 400 (PC 3200) System Memory - OEM\", \"store\": \"45.18414,-93.88141\", \"manu_id_s\": \"corsair\", \"manu\": \"A-DATA Technology Inc.\", \"id\": \"VDBDB1A16\", \"cat\": [\"electronics\", \"memory\"], \"_version_\": 1519187462585319424, \"popularity\": 0, \"manufacturedate_dt\": \"2006-02-13T15:26:37Z\", \"inStock\": true, \"payloads\": \"electronics|0.9 memory|0.1\"}], \"start\": 10}}))\n",
       "        });\n",
       "        "
      ]
     },
     "metadata": {},
     "output_type": "display_data"
    }
   ],
   "source": [
    "RenderJSON(getJson(\"http://localhost:8983/solr/techproducts/select?q=*%3A*&start=10&rows=10&wt=json\"))"
   ]
  },
  {
   "cell_type": "markdown",
   "metadata": {},
   "source": [
    "Query a term: `q=usb`"
   ]
  },
  {
   "cell_type": "code",
   "execution_count": 5,
   "metadata": {
    "collapsed": false
   },
   "outputs": [
    {
     "data": {
      "text/html": [
       "<div id=\"9bf2a377-980b-4d57-ba30-ea4aa3276b77\" style=\"height: 600px; width:100%;\"></div>"
      ]
     },
     "metadata": {},
     "output_type": "display_data"
    },
    {
     "data": {
      "application/javascript": [
       "\n",
       "        require([\"https://rawgit.com/caldwell/renderjson/master/renderjson.js\"], function() {\n",
       "          document.getElementById('9bf2a377-980b-4d57-ba30-ea4aa3276b77').appendChild(renderjson({\"responseHeader\": {\"status\": 0, \"params\": {\"wt\": \"json\", \"q\": \"usb\"}, \"QTime\": 1}, \"response\": {\"numFound\": 5, \"docs\": [{\"features\": [\"car power adapter for iPod, white\"], \"name\": \"iPod & iPod Mini USB 2.0 Cable\", \"store\": \"37.7752,-122.4232\", \"manu_id_s\": \"belkin\", \"id\": \"IW-02\", \"inStock\": false, \"cat\": [\"electronics\", \"connector\"], \"_version_\": 1519187462499336192, \"popularity\": 1, \"manufacturedate_dt\": \"2006-02-14T23:55:59Z\", \"weight\": 2.0, \"price\": 11.5, \"price_c\": \"11.50,USD\", \"manu\": \"Belkin\"}, {\"features\": [\"30\\\" TFT active matrix LCD, 2560 x 1600, .25mm dot pitch, 700:1 contrast\"], \"name\": \"Dell Widescreen UltraSharp 3007WFP\", \"store\": \"43.17614,-90.57341\", \"manu_id_s\": \"dell\", \"id\": \"3007WFP\", \"inStock\": true, \"cat\": [\"electronics and computer1\"], \"_version_\": 1519187462531842048, \"popularity\": 6, \"includes\": \"USB cable\", \"weight\": 401.6, \"price\": 2199.0, \"price_c\": \"2199.0,USD\", \"manu\": \"Dell, Inc.\"}, {\"features\": [\"3x zoop, 7.1 megapixel Digital ELPH\", \"movie clips up to 640x480 @30 fps\", \"2.0\\\" TFT LCD, 118,000 pixels\", \"built in flash, red-eye reduction\"], \"name\": \"Canon PowerShot SD500\", \"store\": \"45.19614,-93.90341\", \"manu_id_s\": \"canon\", \"id\": \"9885A004\", \"inStock\": true, \"cat\": [\"electronics\", \"camera\"], \"_version_\": 1519187462506676224, \"popularity\": 7, \"manufacturedate_dt\": \"2006-02-13T15:26:37Z\", \"includes\": \"32MB SD card, USB cable, AV cable, battery\", \"weight\": 6.4, \"price\": 329.95, \"price_c\": \"329.95,USD\", \"manu\": \"Canon Inc.\"}, {\"features\": [\"iTunes, Podcasts, Audiobooks\", \"Stores up to 15,000 songs, 25,000 photos, or 150 hours of video\", \"2.5-inch, 320x240 color TFT LCD display with LED backlight\", \"Up to 20 hours of battery life\", \"Plays AAC, MP3, WAV, AIFF, Audible, Apple Lossless, H.264 video\", \"Notes, Calendar, Phone book, Hold button, Date display, Photo wallet, Built-in games, JPEG photo playback, Upgradeable firmware, USB 2.0 compatibility, Playback speed control, Rechargeable capability, Battery level indication\"], \"name\": \"Apple 60 GB iPod with Video Playback Black\", \"store\": \"37.7752,-100.0232\", \"manu_id_s\": \"apple\", \"id\": \"MA147LL/A\", \"inStock\": true, \"cat\": [\"electronics\", \"music\"], \"_version_\": 1519187462567493632, \"popularity\": 10, \"manufacturedate_dt\": \"2005-10-12T08:00:00Z\", \"includes\": \"earbud headphones, USB cable\", \"weight\": 5.5, \"price\": 399.0, \"price_c\": \"399.00,USD\", \"manu\": \"Apple Computer Inc.\"}, {\"features\": [\"Multifunction ink-jet color photo printer\", \"Flatbed scanner, optical scan resolution of 1,200 x 2,400 dpi\", \"2.5\\\" color LCD preview screen\", \"Duplex Copying\", \"Printing speed up to 29ppm black, 19ppm color\", \"Hi-Speed USB\", \"memory card: CompactFlash, Micro Drive, SmartMedia, Memory Stick, Memory Stick Pro, SD Card, and MultiMediaCard\"], \"name\": \"Canon PIXMA MP500 All-In-One Photo Printer\", \"store\": \"45.19214,-93.89941\", \"manu_id_s\": \"canon\", \"id\": \"0579B002\", \"inStock\": true, \"cat\": [\"electronics\", \"multifunction printer\", \"printer\", \"scanner\", \"copier\"], \"_version_\": 1519187462482558976, \"popularity\": 6, \"weight\": 352.0, \"price\": 179.99, \"price_c\": \"179.99,USD\", \"manu\": \"Canon Inc.\"}], \"start\": 0}}))\n",
       "        });\n",
       "        "
      ]
     },
     "metadata": {},
     "output_type": "display_data"
    }
   ],
   "source": [
    "RenderJSON(getJson(\"http://localhost:8983/solr/techproducts/select?q=usb&wt=json\"))"
   ]
  },
  {
   "cell_type": "markdown",
   "metadata": {},
   "source": [
    "Limit the fields to retrieve: `f=id,manu`"
   ]
  },
  {
   "cell_type": "code",
   "execution_count": 6,
   "metadata": {
    "collapsed": false
   },
   "outputs": [
    {
     "data": {
      "text/plain": [
       "[{'id': 'IW-02', 'manu': 'Belkin'},\n",
       " {'id': '3007WFP', 'manu': 'Dell, Inc.'},\n",
       " {'id': '9885A004', 'manu': 'Canon Inc.'},\n",
       " {'id': 'MA147LL/A', 'manu': 'Apple Computer Inc.'},\n",
       " {'id': '0579B002', 'manu': 'Canon Inc.'}]"
      ]
     },
     "execution_count": 6,
     "metadata": {},
     "output_type": "execute_result"
    }
   ],
   "source": [
    "jsonObj = getJson(\"http://localhost:8983/solr/techproducts/select?q=usb&fl=id,manu&wt=json\")\n",
    "jsonObj['response']['docs']"
   ]
  },
  {
   "cell_type": "markdown",
   "metadata": {},
   "source": [
    "Facets\n",
    "===\n",
    "* Enable faceting: `facet=true`\n",
    "* Get list of manufactures: `facet.field=manu_exact`"
   ]
  },
  {
   "cell_type": "code",
   "execution_count": 7,
   "metadata": {
    "collapsed": false
   },
   "outputs": [
    {
     "data": {
      "text/html": [
       "<div id=\"0019bdee-a2bd-43aa-a923-482d9374831a\" style=\"height: 600px; width:100%;\"></div>"
      ]
     },
     "metadata": {},
     "output_type": "display_data"
    },
    {
     "data": {
      "application/javascript": [
       "\n",
       "        require([\"https://rawgit.com/caldwell/renderjson/master/renderjson.js\"], function() {\n",
       "          document.getElementById('0019bdee-a2bd-43aa-a923-482d9374831a').appendChild(renderjson({\"facet_counts\": {\"facet_queries\": {}, \"facet_dates\": {}, \"facet_fields\": {\"manu_exact\": [\"Canon Inc.\", 2, \"Apple Computer Inc.\", 1, \"Belkin\", 1, \"Dell, Inc.\", 1, \"A-DATA Technology Inc.\", 0, \"ASUS Computer Inc.\", 0, \"ATI Technologies\", 0, \"Apache Software Foundation\", 0, \"Bank of America\", 0, \"Bank of Norway\", 0, \"Corsair Microsystems Inc.\", 0, \"European Union\", 0, \"Maxtor Corp.\", 0, \"Samsung Electronics Co. Ltd.\", 0, \"U.K.\", 0, \"ViewSonic Corp.\", 0]}, \"facet_ranges\": {}, \"facet_heatmaps\": {}, \"facet_intervals\": {}}, \"responseHeader\": {\"status\": 0, \"params\": {\"facet\": \"true\", \"wt\": \"json\", \"facet.field\": \"manu_exact\", \"q\": \"usb\"}, \"QTime\": 1}, \"response\": {\"numFound\": 5, \"docs\": [{\"features\": [\"car power adapter for iPod, white\"], \"name\": \"iPod & iPod Mini USB 2.0 Cable\", \"store\": \"37.7752,-122.4232\", \"manu_id_s\": \"belkin\", \"id\": \"IW-02\", \"inStock\": false, \"cat\": [\"electronics\", \"connector\"], \"_version_\": 1519187462499336192, \"popularity\": 1, \"manufacturedate_dt\": \"2006-02-14T23:55:59Z\", \"weight\": 2.0, \"price\": 11.5, \"price_c\": \"11.50,USD\", \"manu\": \"Belkin\"}, {\"features\": [\"30\\\" TFT active matrix LCD, 2560 x 1600, .25mm dot pitch, 700:1 contrast\"], \"name\": \"Dell Widescreen UltraSharp 3007WFP\", \"store\": \"43.17614,-90.57341\", \"manu_id_s\": \"dell\", \"id\": \"3007WFP\", \"inStock\": true, \"cat\": [\"electronics and computer1\"], \"_version_\": 1519187462531842048, \"popularity\": 6, \"includes\": \"USB cable\", \"weight\": 401.6, \"price\": 2199.0, \"price_c\": \"2199.0,USD\", \"manu\": \"Dell, Inc.\"}, {\"features\": [\"3x zoop, 7.1 megapixel Digital ELPH\", \"movie clips up to 640x480 @30 fps\", \"2.0\\\" TFT LCD, 118,000 pixels\", \"built in flash, red-eye reduction\"], \"name\": \"Canon PowerShot SD500\", \"store\": \"45.19614,-93.90341\", \"manu_id_s\": \"canon\", \"id\": \"9885A004\", \"inStock\": true, \"cat\": [\"electronics\", \"camera\"], \"_version_\": 1519187462506676224, \"popularity\": 7, \"manufacturedate_dt\": \"2006-02-13T15:26:37Z\", \"includes\": \"32MB SD card, USB cable, AV cable, battery\", \"weight\": 6.4, \"price\": 329.95, \"price_c\": \"329.95,USD\", \"manu\": \"Canon Inc.\"}, {\"features\": [\"iTunes, Podcasts, Audiobooks\", \"Stores up to 15,000 songs, 25,000 photos, or 150 hours of video\", \"2.5-inch, 320x240 color TFT LCD display with LED backlight\", \"Up to 20 hours of battery life\", \"Plays AAC, MP3, WAV, AIFF, Audible, Apple Lossless, H.264 video\", \"Notes, Calendar, Phone book, Hold button, Date display, Photo wallet, Built-in games, JPEG photo playback, Upgradeable firmware, USB 2.0 compatibility, Playback speed control, Rechargeable capability, Battery level indication\"], \"name\": \"Apple 60 GB iPod with Video Playback Black\", \"store\": \"37.7752,-100.0232\", \"manu_id_s\": \"apple\", \"id\": \"MA147LL/A\", \"inStock\": true, \"cat\": [\"electronics\", \"music\"], \"_version_\": 1519187462567493632, \"popularity\": 10, \"manufacturedate_dt\": \"2005-10-12T08:00:00Z\", \"includes\": \"earbud headphones, USB cable\", \"weight\": 5.5, \"price\": 399.0, \"price_c\": \"399.00,USD\", \"manu\": \"Apple Computer Inc.\"}, {\"features\": [\"Multifunction ink-jet color photo printer\", \"Flatbed scanner, optical scan resolution of 1,200 x 2,400 dpi\", \"2.5\\\" color LCD preview screen\", \"Duplex Copying\", \"Printing speed up to 29ppm black, 19ppm color\", \"Hi-Speed USB\", \"memory card: CompactFlash, Micro Drive, SmartMedia, Memory Stick, Memory Stick Pro, SD Card, and MultiMediaCard\"], \"name\": \"Canon PIXMA MP500 All-In-One Photo Printer\", \"store\": \"45.19214,-93.89941\", \"manu_id_s\": \"canon\", \"id\": \"0579B002\", \"inStock\": true, \"cat\": [\"electronics\", \"multifunction printer\", \"printer\", \"scanner\", \"copier\"], \"_version_\": 1519187462482558976, \"popularity\": 6, \"weight\": 352.0, \"price\": 179.99, \"price_c\": \"179.99,USD\", \"manu\": \"Canon Inc.\"}], \"start\": 0}}))\n",
       "        });\n",
       "        "
      ]
     },
     "metadata": {},
     "output_type": "display_data"
    }
   ],
   "source": [
    "RenderJSON(getJson(\"http://localhost:8983/solr/techproducts/select?q=usb&facet=true&facet.field=manu_exact&wt=json\"))"
   ]
  },
  {
   "cell_type": "markdown",
   "metadata": {},
   "source": [
    "* making it an association array in JSON response: `json.nl=map`"
   ]
  },
  {
   "cell_type": "code",
   "execution_count": 8,
   "metadata": {
    "collapsed": false
   },
   "outputs": [
    {
     "data": {
      "text/plain": [
       "{'A-DATA Technology Inc.': 0,\n",
       " 'ASUS Computer Inc.': 0,\n",
       " 'ATI Technologies': 0,\n",
       " 'Apache Software Foundation': 0,\n",
       " 'Apple Computer Inc.': 1,\n",
       " 'Bank of America': 0,\n",
       " 'Bank of Norway': 0,\n",
       " 'Belkin': 1,\n",
       " 'Canon Inc.': 2,\n",
       " 'Corsair Microsystems Inc.': 0,\n",
       " 'Dell, Inc.': 1,\n",
       " 'European Union': 0,\n",
       " 'Maxtor Corp.': 0,\n",
       " 'Samsung Electronics Co. Ltd.': 0,\n",
       " 'U.K.': 0,\n",
       " 'ViewSonic Corp.': 0}"
      ]
     },
     "execution_count": 8,
     "metadata": {},
     "output_type": "execute_result"
    }
   ],
   "source": [
    "jsonObj = getJson(\"http://localhost:8983/solr/techproducts/select?q=usb&facet=true&facet.field=manu_exact&json.nl=map&wt=json\")\n",
    "jsonObj['facet_counts']['facet_fields']['manu_exact']"
   ]
  },
  {
   "cell_type": "markdown",
   "metadata": {},
   "source": [
    "* removing non matching values: `facet.mincount=1`"
   ]
  },
  {
   "cell_type": "code",
   "execution_count": 9,
   "metadata": {
    "collapsed": false
   },
   "outputs": [
    {
     "data": {
      "text/plain": [
       "{'Apple Computer Inc.': 1, 'Belkin': 1, 'Canon Inc.': 2, 'Dell, Inc.': 1}"
      ]
     },
     "execution_count": 9,
     "metadata": {},
     "output_type": "execute_result"
    }
   ],
   "source": [
    "jsonObj = getJson(\"http://localhost:8983/solr/techproducts/select?q=usb&facet=true&facet.field=manu_exact&json.nl=map&facet.mincount=1&wt=json\")\n",
    "jsonObj['facet_counts']['facet_fields']['manu_exact']"
   ]
  },
  {
   "cell_type": "markdown",
   "metadata": {},
   "source": [
    "* sort by count: `facet.sort=count`"
   ]
  },
  {
   "cell_type": "code",
   "execution_count": 10,
   "metadata": {
    "collapsed": false
   },
   "outputs": [
    {
     "data": {
      "text/html": [
       "<div id=\"f36c280c-ce25-4558-8508-e2cc841e1f70\" style=\"height: 600px; width:100%;\"></div>"
      ]
     },
     "metadata": {},
     "output_type": "display_data"
    },
    {
     "data": {
      "application/javascript": [
       "\n",
       "        require([\"https://rawgit.com/caldwell/renderjson/master/renderjson.js\"], function() {\n",
       "          document.getElementById('f36c280c-ce25-4558-8508-e2cc841e1f70').appendChild(renderjson({\"facet_counts\": {\"facet_queries\": {}, \"facet_dates\": {}, \"facet_fields\": {\"manu_exact\": {\"Belkin\": 1, \"Apple Computer Inc.\": 1, \"Canon Inc.\": 2, \"Dell, Inc.\": 1}}, \"facet_ranges\": {}, \"facet_heatmaps\": {}, \"facet_intervals\": {}}, \"responseHeader\": {\"status\": 0, \"params\": {\"facet.sort\": \"count\", \"facet.field\": \"manu_exact\", \"json.nl\": \"map\", \"q\": \"usb\", \"facet\": \"true\", \"wt\": \"json\", \"facet.mincount\": \"1\"}, \"QTime\": 1}, \"response\": {\"numFound\": 5, \"docs\": [{\"features\": [\"car power adapter for iPod, white\"], \"name\": \"iPod & iPod Mini USB 2.0 Cable\", \"store\": \"37.7752,-122.4232\", \"manu_id_s\": \"belkin\", \"id\": \"IW-02\", \"inStock\": false, \"cat\": [\"electronics\", \"connector\"], \"_version_\": 1519187462499336192, \"popularity\": 1, \"manufacturedate_dt\": \"2006-02-14T23:55:59Z\", \"weight\": 2.0, \"price\": 11.5, \"price_c\": \"11.50,USD\", \"manu\": \"Belkin\"}, {\"features\": [\"30\\\" TFT active matrix LCD, 2560 x 1600, .25mm dot pitch, 700:1 contrast\"], \"name\": \"Dell Widescreen UltraSharp 3007WFP\", \"store\": \"43.17614,-90.57341\", \"manu_id_s\": \"dell\", \"id\": \"3007WFP\", \"inStock\": true, \"cat\": [\"electronics and computer1\"], \"_version_\": 1519187462531842048, \"popularity\": 6, \"includes\": \"USB cable\", \"weight\": 401.6, \"price\": 2199.0, \"price_c\": \"2199.0,USD\", \"manu\": \"Dell, Inc.\"}, {\"features\": [\"3x zoop, 7.1 megapixel Digital ELPH\", \"movie clips up to 640x480 @30 fps\", \"2.0\\\" TFT LCD, 118,000 pixels\", \"built in flash, red-eye reduction\"], \"name\": \"Canon PowerShot SD500\", \"store\": \"45.19614,-93.90341\", \"manu_id_s\": \"canon\", \"id\": \"9885A004\", \"inStock\": true, \"cat\": [\"electronics\", \"camera\"], \"_version_\": 1519187462506676224, \"popularity\": 7, \"manufacturedate_dt\": \"2006-02-13T15:26:37Z\", \"includes\": \"32MB SD card, USB cable, AV cable, battery\", \"weight\": 6.4, \"price\": 329.95, \"price_c\": \"329.95,USD\", \"manu\": \"Canon Inc.\"}, {\"features\": [\"iTunes, Podcasts, Audiobooks\", \"Stores up to 15,000 songs, 25,000 photos, or 150 hours of video\", \"2.5-inch, 320x240 color TFT LCD display with LED backlight\", \"Up to 20 hours of battery life\", \"Plays AAC, MP3, WAV, AIFF, Audible, Apple Lossless, H.264 video\", \"Notes, Calendar, Phone book, Hold button, Date display, Photo wallet, Built-in games, JPEG photo playback, Upgradeable firmware, USB 2.0 compatibility, Playback speed control, Rechargeable capability, Battery level indication\"], \"name\": \"Apple 60 GB iPod with Video Playback Black\", \"store\": \"37.7752,-100.0232\", \"manu_id_s\": \"apple\", \"id\": \"MA147LL/A\", \"inStock\": true, \"cat\": [\"electronics\", \"music\"], \"_version_\": 1519187462567493632, \"popularity\": 10, \"manufacturedate_dt\": \"2005-10-12T08:00:00Z\", \"includes\": \"earbud headphones, USB cable\", \"weight\": 5.5, \"price\": 399.0, \"price_c\": \"399.00,USD\", \"manu\": \"Apple Computer Inc.\"}, {\"features\": [\"Multifunction ink-jet color photo printer\", \"Flatbed scanner, optical scan resolution of 1,200 x 2,400 dpi\", \"2.5\\\" color LCD preview screen\", \"Duplex Copying\", \"Printing speed up to 29ppm black, 19ppm color\", \"Hi-Speed USB\", \"memory card: CompactFlash, Micro Drive, SmartMedia, Memory Stick, Memory Stick Pro, SD Card, and MultiMediaCard\"], \"name\": \"Canon PIXMA MP500 All-In-One Photo Printer\", \"store\": \"45.19214,-93.89941\", \"manu_id_s\": \"canon\", \"id\": \"0579B002\", \"inStock\": true, \"cat\": [\"electronics\", \"multifunction printer\", \"printer\", \"scanner\", \"copier\"], \"_version_\": 1519187462482558976, \"popularity\": 6, \"weight\": 352.0, \"price\": 179.99, \"price_c\": \"179.99,USD\", \"manu\": \"Canon Inc.\"}], \"start\": 0}}))\n",
       "        });\n",
       "        "
      ]
     },
     "metadata": {},
     "output_type": "display_data"
    }
   ],
   "source": [
    "jsonObj = getJson(\"http://localhost:8983/solr/techproducts/select?q=usb&facet=true&facet.field=manu_exact&json.nl=map&facet.mincount=1&facet.sort=count&wt=json\")\n",
    "RenderJSON(jsonObj)"
   ]
  },
  {
   "cell_type": "markdown",
   "metadata": {},
   "source": [
    "Hit highlighting (why I get this response?)\n",
    "===\n",
    "* highlight on `hl=true`\n",
    "* select field(s) to highight: `hl.fl=features`\n",
    "* select HTML tag to highlight: `hl.simple.pre=<em>` and `hl.simple.post=</Fem>`\n",
    "* query this time in the same field: `q=features:usb`"
   ]
  },
  {
   "cell_type": "code",
   "execution_count": 11,
   "metadata": {
    "collapsed": false
   },
   "outputs": [
    {
     "data": {
      "text/html": [
       "<div id=\"82864547-5604-448a-8950-2b823ff3cb96\" style=\"height: 600px; width:100%;\"></div>"
      ]
     },
     "metadata": {},
     "output_type": "display_data"
    },
    {
     "data": {
      "application/javascript": [
       "\n",
       "        require([\"https://rawgit.com/caldwell/renderjson/master/renderjson.js\"], function() {\n",
       "          document.getElementById('82864547-5604-448a-8950-2b823ff3cb96').appendChild(renderjson({\"highlighting\": {\"MA147LL/A\": {\"features\": [\" playback, Upgradeable firmware, <em>USB</em> 2.0 compatibility, Playback speed control, Rechargeable capability\"]}, \"0579B002\": {\"features\": [\"Hi-Speed <em>USB</em>\"]}}, \"responseHeader\": {\"status\": 0, \"params\": {\"hl.simple.post\": \"</em>\", \"hl\": \"true\", \"q\": \"features:usb\", \"fl\": \"features\", \"wt\": \"json\", \"hl.simple.pre\": \"<em>\", \"hl.fl\": \"features\", \"indent\": \"true\"}, \"QTime\": 9}, \"response\": {\"numFound\": 2, \"docs\": [{\"features\": [\"Multifunction ink-jet color photo printer\", \"Flatbed scanner, optical scan resolution of 1,200 x 2,400 dpi\", \"2.5\\\" color LCD preview screen\", \"Duplex Copying\", \"Printing speed up to 29ppm black, 19ppm color\", \"Hi-Speed USB\", \"memory card: CompactFlash, Micro Drive, SmartMedia, Memory Stick, Memory Stick Pro, SD Card, and MultiMediaCard\"]}, {\"features\": [\"iTunes, Podcasts, Audiobooks\", \"Stores up to 15,000 songs, 25,000 photos, or 150 hours of video\", \"2.5-inch, 320x240 color TFT LCD display with LED backlight\", \"Up to 20 hours of battery life\", \"Plays AAC, MP3, WAV, AIFF, Audible, Apple Lossless, H.264 video\", \"Notes, Calendar, Phone book, Hold button, Date display, Photo wallet, Built-in games, JPEG photo playback, Upgradeable firmware, USB 2.0 compatibility, Playback speed control, Rechargeable capability, Battery level indication\"]}], \"start\": 0}}))\n",
       "        });\n",
       "        "
      ]
     },
     "metadata": {},
     "output_type": "display_data"
    }
   ],
   "source": [
    "RenderJSON(getJson(\"http://localhost:8983/solr/techproducts/select?q=features:usb&fl=features&wt=json&indent=true&hl=true&hl.fl=features&hl.simple.pre=%3Cem%3E&hl.simple.post=%3C%2Fem%3E\"))"
   ]
  },
  {
   "cell_type": "markdown",
   "metadata": {},
   "source": [
    "Similar documents\n",
    "===\n",
    "The MoreLikeThis search component"
   ]
  },
  {
   "cell_type": "markdown",
   "metadata": {},
   "source": [
    "* `mlt=true`        // MoreLikeThis search component is turned on\n",
    "* `mlt.fl=manu,cat` // the fields to use in similarity\n",
    "* `mlt.mindf=1`     // minimum document frequency (words must occur in at least this many docs)\n",
    "* `mlt.mintf=1`     // minimum term frequency (the frequency below which terms will be ignored in the source doc)\n",
    "* `fl=id,score`     // fields to return"
   ]
  },
  {
   "cell_type": "code",
   "execution_count": 4,
   "metadata": {
    "collapsed": false
   },
   "outputs": [
    {
     "data": {
      "text/html": [
       "<div id=\"3aef031e-2149-4928-90b5-4403cf3378c6\" style=\"height: 600px; width:100%;\"></div>"
      ]
     },
     "metadata": {},
     "output_type": "display_data"
    },
    {
     "data": {
      "application/javascript": [
       "\n",
       "        require([\"https://rawgit.com/caldwell/renderjson/master/renderjson.js\"], function() {\n",
       "          document.getElementById('3aef031e-2149-4928-90b5-4403cf3378c6').appendChild(renderjson({\"response\": {\"start\": 0, \"numFound\": 5, \"docs\": [{\"id\": \"IW-02\", \"score\": 0.6684941}, {\"id\": \"3007WFP\", \"score\": 0.50137055}, {\"id\": \"9885A004\", \"score\": 0.41780883}, {\"id\": \"MA147LL/A\", \"score\": 0.35452253}, {\"id\": \"0579B002\", \"score\": 0.29246616}], \"maxScore\": 0.6684941}, \"responseHeader\": {\"params\": {\"fl\": \"id,score\", \"mlt.fl\": \"manu,cat\", \"wt\": \"json\", \"mlt\": \"true\", \"mlt.mintf\": \"1\", \"q\": \"usb\", \"mlt.mindf\": \"1\"}, \"QTime\": 15, \"status\": 0}, \"moreLikeThis\": {\"0579B002\": {\"start\": 0, \"numFound\": 12, \"docs\": [{\"id\": \"9885A004\", \"score\": 0.98135763}, {\"id\": \"EN7800GTX/2DHTV/256M\", \"score\": 0.28515002}, {\"id\": \"MA147LL/A\", \"score\": 0.28515002}, {\"id\": \"TWINX2048-3200PRO\", \"score\": 0.28515002}, {\"id\": \"VS1GB400C3\", \"score\": 0.28515002}], \"maxScore\": 0.98135763}, \"9885A004\": {\"start\": 0, \"numFound\": 12, \"docs\": [{\"id\": \"0579B002\", \"score\": 2.5724912}, {\"id\": \"EN7800GTX/2DHTV/256M\", \"score\": 0.74748075}, {\"id\": \"MA147LL/A\", \"score\": 0.74748075}, {\"id\": \"TWINX2048-3200PRO\", \"score\": 0.74748075}, {\"id\": \"VS1GB400C3\", \"score\": 0.74748075}], \"maxScore\": 2.5724912}, \"IW-02\": {\"start\": 0, \"numFound\": 11, \"docs\": [{\"id\": \"F8V7067-APL-KIT\", \"score\": 5.127186}, {\"id\": \"SP2514N\", \"score\": 0.23489103}, {\"id\": \"6H500F0\", \"score\": 0.23489103}, {\"id\": \"0579B002\", \"score\": 0.23489103}, {\"id\": \"9885A004\", \"score\": 0.23489103}], \"maxScore\": 5.127186}, \"MA147LL/A\": {\"start\": 0, \"numFound\": 12, \"docs\": [{\"id\": \"EN7800GTX/2DHTV/256M\", \"score\": 1.7303301}, {\"id\": \"0579B002\", \"score\": 0.50277656}, {\"id\": \"9885A004\", \"score\": 0.50277656}, {\"id\": \"TWINX2048-3200PRO\", \"score\": 0.50277656}, {\"id\": \"VS1GB400C3\", \"score\": 0.50277656}], \"maxScore\": 1.7303301}, \"3007WFP\": {\"start\": 0, \"numFound\": 7, \"docs\": [{\"id\": \"0579B002\", \"score\": 0.295883}, {\"id\": \"9885A004\", \"score\": 0.295883}, {\"id\": \"EN7800GTX/2DHTV/256M\", \"score\": 0.295883}, {\"id\": \"MA147LL/A\", \"score\": 0.295883}, {\"id\": \"TWINX2048-3200PRO\", \"score\": 0.295883}], \"maxScore\": 0.295883}}}))\n",
       "        });\n",
       "        "
      ]
     },
     "metadata": {},
     "output_type": "display_data"
    }
   ],
   "source": [
    "RenderJSON(getJson(\"http://localhost:8983/solr/techproducts/select?q=usb&mlt=true&mlt.fl=manu,cat&mlt.mindf=1&mlt.mintf=1&fl=id,score&wt=json\"))"
   ]
  },
  {
   "cell_type": "markdown",
   "metadata": {},
   "source": [
    "Debugging (deep dive into term space vector)\n",
    "===\n",
    "* `debugQuery=true`                // turn on debugger\n",
    "* `debug.explain.structured=true`  // return scores as structured data"
   ]
  },
  {
   "cell_type": "code",
   "execution_count": 5,
   "metadata": {
    "collapsed": false
   },
   "outputs": [
    {
     "data": {
      "text/html": [
       "<div id=\"64c681aa-4f6e-43e8-a73e-097f57a85533\" style=\"height: 600px; width:100%;\"></div>"
      ]
     },
     "metadata": {},
     "output_type": "display_data"
    },
    {
     "data": {
      "application/javascript": [
       "\n",
       "        require([\"https://rawgit.com/caldwell/renderjson/master/renderjson.js\"], function() {\n",
       "          document.getElementById('64c681aa-4f6e-43e8-a73e-097f57a85533').appendChild(renderjson({\"response\": {\"start\": 0, \"numFound\": 5, \"docs\": [{\"popularity\": 1, \"cat\": [\"electronics\", \"connector\"], \"features\": [\"car power adapter for iPod, white\"], \"inStock\": false, \"weight\": 2.0, \"_version_\": 1519459184969515008, \"manu_id_s\": \"belkin\", \"price_c\": \"11.50,USD\", \"id\": \"IW-02\", \"manufacturedate_dt\": \"2006-02-14T23:55:59Z\", \"manu\": \"Belkin\", \"store\": \"37.7752,-122.4232\", \"name\": \"iPod & iPod Mini USB 2.0 Cable\", \"price\": 11.5}, {\"cat\": [\"electronics and computer1\"], \"features\": [\"30\\\" TFT active matrix LCD, 2560 x 1600, .25mm dot pitch, 700:1 contrast\"], \"inStock\": true, \"popularity\": 6, \"weight\": 401.6, \"_version_\": 1519459185003069440, \"manu_id_s\": \"dell\", \"price_c\": \"2199.0,USD\", \"id\": \"3007WFP\", \"manu\": \"Dell, Inc.\", \"store\": \"43.17614,-90.57341\", \"name\": \"Dell Widescreen UltraSharp 3007WFP\", \"includes\": \"USB cable\", \"price\": 2199.0}, {\"cat\": [\"electronics\", \"camera\"], \"features\": [\"3x zoop, 7.1 megapixel Digital ELPH\", \"movie clips up to 640x480 @30 fps\", \"2.0\\\" TFT LCD, 118,000 pixels\", \"built in flash, red-eye reduction\"], \"inStock\": true, \"popularity\": 7, \"weight\": 6.4, \"_version_\": 1519459184978952192, \"manu_id_s\": \"canon\", \"price_c\": \"329.95,USD\", \"id\": \"9885A004\", \"manufacturedate_dt\": \"2006-02-13T15:26:37Z\", \"manu\": \"Canon Inc.\", \"store\": \"45.19614,-93.90341\", \"name\": \"Canon PowerShot SD500\", \"includes\": \"32MB SD card, USB cable, AV cable, battery\", \"price\": 329.95}]}, \"debug\": {\"querystring\": \"usb OR disks\", \"timing\": {\"process\": {\"expand\": {\"time\": 0.0}, \"stats\": {\"time\": 0.0}, \"facet\": {\"time\": 0.0}, \"mlt\": {\"time\": 0.0}, \"highlight\": {\"time\": 0.0}, \"query\": {\"time\": 0.0}, \"debug\": {\"time\": 2.0}, \"facet_module\": {\"time\": 0.0}, \"time\": 2.0}, \"prepare\": {\"expand\": {\"time\": 0.0}, \"stats\": {\"time\": 0.0}, \"facet\": {\"time\": 0.0}, \"mlt\": {\"time\": 0.0}, \"highlight\": {\"time\": 0.0}, \"query\": {\"time\": 0.0}, \"debug\": {\"time\": 0.0}, \"facet_module\": {\"time\": 0.0}, \"time\": 0.0}, \"time\": 3.0}, \"explain\": {\"9885A004\": {\"details\": [{\"details\": [{\"details\": [{\"details\": [{\"details\": [{\"value\": 2.6739764, \"description\": \"idf(docFreq=5, maxDocs=32)\", \"match\": true}, {\"value\": 0.19211969, \"description\": \"queryNorm\", \"match\": true}], \"value\": 0.5137235, \"description\": \"queryWeight, product of:\", \"match\": true}, {\"details\": [{\"details\": [{\"value\": 1.0, \"description\": \"termFreq=1.0\", \"match\": true}], \"value\": 1.0, \"description\": \"tf(freq=1.0), with freq of:\", \"match\": true}, {\"value\": 2.6739764, \"description\": \"idf(docFreq=5, maxDocs=32)\", \"match\": true}, {\"value\": 0.15625, \"description\": \"fieldNorm(doc=11)\", \"match\": true}], \"value\": 0.41780883, \"description\": \"fieldWeight in 11, product of:\", \"match\": true}], \"value\": 0.21463822, \"description\": \"score(doc=11,freq=1.0), product of:\", \"match\": true}], \"value\": 0.21463822, \"description\": \"weight(text:usb in 11) [DefaultSimilarity], result of:\", \"match\": true}], \"value\": 0.21463822, \"description\": \"sum of:\", \"match\": true}, {\"value\": 0.5, \"description\": \"coord(1/2)\", \"match\": true}], \"value\": 0.10731911, \"description\": \"product of:\", \"match\": true}, \"IW-02\": {\"details\": [{\"details\": [{\"details\": [{\"details\": [{\"details\": [{\"value\": 2.6739764, \"description\": \"idf(docFreq=5, maxDocs=32)\", \"match\": true}, {\"value\": 0.19211969, \"description\": \"queryNorm\", \"match\": true}], \"value\": 0.5137235, \"description\": \"queryWeight, product of:\", \"match\": true}, {\"details\": [{\"details\": [{\"value\": 1.0, \"description\": \"termFreq=1.0\", \"match\": true}], \"value\": 1.0, \"description\": \"tf(freq=1.0), with freq of:\", \"match\": true}, {\"value\": 2.6739764, \"description\": \"idf(docFreq=5, maxDocs=32)\", \"match\": true}, {\"value\": 0.25, \"description\": \"fieldNorm(doc=10)\", \"match\": true}], \"value\": 0.6684941, \"description\": \"fieldWeight in 10, product of:\", \"match\": true}], \"value\": 0.34342113, \"description\": \"score(doc=10,freq=1.0), product of:\", \"match\": true}], \"value\": 0.34342113, \"description\": \"weight(text:usb in 10) [DefaultSimilarity], result of:\", \"match\": true}], \"value\": 0.34342113, \"description\": \"sum of:\", \"match\": true}, {\"value\": 0.5, \"description\": \"coord(1/2)\", \"match\": true}], \"value\": 0.17171057, \"description\": \"product of:\", \"match\": true}, \"3007WFP\": {\"details\": [{\"details\": [{\"details\": [{\"details\": [{\"details\": [{\"value\": 2.6739764, \"description\": \"idf(docFreq=5, maxDocs=32)\", \"match\": true}, {\"value\": 0.19211969, \"description\": \"queryNorm\", \"match\": true}], \"value\": 0.5137235, \"description\": \"queryWeight, product of:\", \"match\": true}, {\"details\": [{\"details\": [{\"value\": 1.0, \"description\": \"termFreq=1.0\", \"match\": true}], \"value\": 1.0, \"description\": \"tf(freq=1.0), with freq of:\", \"match\": true}, {\"value\": 2.6739764, \"description\": \"idf(docFreq=5, maxDocs=32)\", \"match\": true}, {\"value\": 0.1875, \"description\": \"fieldNorm(doc=14)\", \"match\": true}], \"value\": 0.50137055, \"description\": \"fieldWeight in 14, product of:\", \"match\": true}], \"value\": 0.25756583, \"description\": \"score(doc=14,freq=1.0), product of:\", \"match\": true}], \"value\": 0.25756583, \"description\": \"weight(text:usb in 14) [DefaultSimilarity], result of:\", \"match\": true}], \"value\": 0.25756583, \"description\": \"sum of:\", \"match\": true}, {\"value\": 0.5, \"description\": \"coord(1/2)\", \"match\": true}], \"value\": 0.12878291, \"description\": \"product of:\", \"match\": true}}, \"rawquerystring\": \"usb OR disks\", \"parsedquery_toString\": \"text:usb text:disks\", \"QParser\": \"LuceneQParser\", \"parsedquery\": \"text:usb text:disks\"}, \"responseHeader\": {\"params\": {\"debugQuery\": \"true\", \"debug.explain.structured\": \"true\", \"q\": \"usb OR disks\", \"wt\": \"json\", \"rows\": \"3\"}, \"QTime\": 3, \"status\": 0}}))\n",
       "        });\n",
       "        "
      ]
     },
     "metadata": {},
     "output_type": "display_data"
    }
   ],
   "source": [
    "RenderJSON(getJson(\"http://localhost:8983/solr/techproducts/select?q=usb%20OR%20disks&rows=3&debugQuery=true&debug.explain.structured=true&wt=json\"))"
   ]
  },
  {
   "cell_type": "markdown",
   "metadata": {},
   "source": [
    "## Part II &mdash; Elasticsearch\n",
    "\n",
    "Main site: https://www.elastic.co/products/elasticsearch. Use cases: https://www.elastic.co/use-cases\n",
    "\n",
    "This part is based on the Elasticsearch Getting Started Guide, you can find more explanation there: https://www.elastic.co/guide/en/elasticsearch/reference/2.1/getting-started.html"
   ]
  },
  {
   "cell_type": "markdown",
   "metadata": {},
   "source": [
    "## Install Elasticsearch\n",
    "\n",
    "Requirement: Java 7\n",
    "\n",
    "1. Download Elasticsearch from https://www.elastic.co/downloads/elasticsearch\n",
    "2. Uncompress\n",
    "3. `bin/elasticsearch`\n",
    "4. download a sample index (account.zip) from https://www.elastic.co/downloads/elasticsearch\n",
    "5. unzip\n",
    "6. `curl -XPOST 'localhost:9200/bank/account/_bulk?pretty' --data-binary @accounts.json`\n",
    "\n",
    "Elasticseach provides a two-level index: `bank` (index) and `account` (type)."
   ]
  },
  {
   "cell_type": "markdown",
   "metadata": {},
   "source": [
    "Search for everything: * (asterisk)"
   ]
  },
  {
   "cell_type": "code",
   "execution_count": 14,
   "metadata": {
    "collapsed": false
   },
   "outputs": [
    {
     "data": {
      "text/html": [
       "<div id=\"90e1b027-7903-4b79-905c-d1b5a72cbb26\" style=\"height: 600px; width:100%;\"></div>"
      ]
     },
     "metadata": {},
     "output_type": "display_data"
    },
    {
     "data": {
      "application/javascript": [
       "\n",
       "        require([\"https://rawgit.com/caldwell/renderjson/master/renderjson.js\"], function() {\n",
       "          document.getElementById('90e1b027-7903-4b79-905c-d1b5a72cbb26').appendChild(renderjson({\"timed_out\": false, \"took\": 50, \"hits\": {\"total\": 1000, \"max_score\": 1.0, \"hits\": [{\"_type\": \"account\", \"_index\": \"bank\", \"_score\": 1.0, \"_id\": \"25\", \"_source\": {\"account_number\": 25, \"age\": 39, \"gender\": \"F\", \"firstname\": \"Virginia\", \"balance\": 40540, \"city\": \"Nicholson\", \"state\": \"PA\", \"email\": \"virginiaayala@filodyne.com\", \"employer\": \"Filodyne\", \"address\": \"171 Putnam Avenue\", \"lastname\": \"Ayala\"}}, {\"_type\": \"account\", \"_index\": \"bank\", \"_score\": 1.0, \"_id\": \"44\", \"_source\": {\"account_number\": 44, \"age\": 37, \"gender\": \"M\", \"firstname\": \"Aurelia\", \"balance\": 34487, \"city\": \"Yardville\", \"state\": \"DE\", \"email\": \"aureliaharding@orbalix.com\", \"employer\": \"Orbalix\", \"address\": \"502 Baycliff Terrace\", \"lastname\": \"Harding\"}}, {\"_type\": \"account\", \"_index\": \"bank\", \"_score\": 1.0, \"_id\": \"99\", \"_source\": {\"account_number\": 99, \"age\": 39, \"gender\": \"F\", \"firstname\": \"Ratliff\", \"balance\": 47159, \"city\": \"Shaft\", \"state\": \"ND\", \"email\": \"ratliffheath@zappix.com\", \"employer\": \"Zappix\", \"address\": \"806 Rockwell Place\", \"lastname\": \"Heath\"}}, {\"_type\": \"account\", \"_index\": \"bank\", \"_score\": 1.0, \"_id\": \"119\", \"_source\": {\"account_number\": 119, \"age\": 28, \"gender\": \"F\", \"firstname\": \"Laverne\", \"balance\": 49222, \"city\": \"Herlong\", \"state\": \"DC\", \"email\": \"lavernejohnson@senmei.com\", \"employer\": \"Senmei\", \"address\": \"302 Howard Place\", \"lastname\": \"Johnson\"}}, {\"_type\": \"account\", \"_index\": \"bank\", \"_score\": 1.0, \"_id\": \"126\", \"_source\": {\"account_number\": 126, \"age\": 39, \"gender\": \"F\", \"firstname\": \"Effie\", \"balance\": 3607, \"city\": \"Blodgett\", \"state\": \"MD\", \"email\": \"effiegates@digitalus.com\", \"employer\": \"Digitalus\", \"address\": \"620 National Drive\", \"lastname\": \"Gates\"}}, {\"_type\": \"account\", \"_index\": \"bank\", \"_score\": 1.0, \"_id\": \"145\", \"_source\": {\"account_number\": 145, \"age\": 32, \"gender\": \"M\", \"firstname\": \"Rowena\", \"balance\": 47406, \"city\": \"Ripley\", \"state\": \"NH\", \"email\": \"rowenawilkinson@asimiline.com\", \"employer\": \"Asimiline\", \"address\": \"891 Elton Street\", \"lastname\": \"Wilkinson\"}}, {\"_type\": \"account\", \"_index\": \"bank\", \"_score\": 1.0, \"_id\": \"183\", \"_source\": {\"account_number\": 183, \"age\": 26, \"gender\": \"F\", \"firstname\": \"Hudson\", \"balance\": 14223, \"city\": \"Robbins\", \"state\": \"ND\", \"email\": \"hudsonenglish@xinware.com\", \"employer\": \"Xinware\", \"address\": \"823 Herkimer Place\", \"lastname\": \"English\"}}, {\"_type\": \"account\", \"_index\": \"bank\", \"_score\": 1.0, \"_id\": \"190\", \"_source\": {\"account_number\": 190, \"age\": 30, \"gender\": \"F\", \"firstname\": \"Blake\", \"balance\": 3150, \"city\": \"Crumpler\", \"state\": \"KY\", \"email\": \"blakedavidson@quantasis.com\", \"employer\": \"Quantasis\", \"address\": \"636 Diamond Street\", \"lastname\": \"Davidson\"}}, {\"_type\": \"account\", \"_index\": \"bank\", \"_score\": 1.0, \"_id\": \"208\", \"_source\": {\"account_number\": 208, \"age\": 26, \"gender\": \"F\", \"firstname\": \"Garcia\", \"balance\": 40760, \"city\": \"Brooktrails\", \"state\": \"GA\", \"email\": \"garciahess@quiltigen.com\", \"employer\": \"Quiltigen\", \"address\": \"810 Nostrand Avenue\", \"lastname\": \"Hess\"}}, {\"_type\": \"account\", \"_index\": \"bank\", \"_score\": 1.0, \"_id\": \"222\", \"_source\": {\"account_number\": 222, \"age\": 36, \"gender\": \"M\", \"firstname\": \"Rachelle\", \"balance\": 14764, \"city\": \"Wright\", \"state\": \"AZ\", \"email\": \"rachellerice@enaut.com\", \"employer\": \"Enaut\", \"address\": \"333 Narrows Avenue\", \"lastname\": \"Rice\"}}]}, \"_shards\": {\"total\": 5, \"failed\": 0, \"successful\": 5}}))\n",
       "        });\n",
       "        "
      ]
     },
     "metadata": {},
     "output_type": "display_data"
    }
   ],
   "source": [
    "RenderJSON(getJson(\"http://localhost:9200/bank/_search?q=*\"))"
   ]
  },
  {
   "cell_type": "markdown",
   "metadata": {},
   "source": [
    "Match all - with a query language\n",
    "```JSON\n",
    "{\n",
    "  \"query\": {\"match_all\": {}}\n",
    "}\n",
    "```"
   ]
  },
  {
   "cell_type": "code",
   "execution_count": 75,
   "metadata": {
    "collapsed": false
   },
   "outputs": [
    {
     "name": "stdout",
     "output_type": "stream",
     "text": [
      "{'account_number': 25, 'age': 39, 'gender': 'F', 'firstname': 'Virginia', 'balance': 40540, 'city': 'Nicholson', 'state': 'PA', 'email': 'virginiaayala@filodyne.com', 'employer': 'Filodyne', 'address': '171 Putnam Avenue', 'lastname': 'Ayala'}\n",
      "{'account_number': 44, 'age': 37, 'gender': 'M', 'firstname': 'Aurelia', 'balance': 34487, 'city': 'Yardville', 'state': 'DE', 'email': 'aureliaharding@orbalix.com', 'employer': 'Orbalix', 'address': '502 Baycliff Terrace', 'lastname': 'Harding'}\n",
      "{'account_number': 99, 'age': 39, 'gender': 'F', 'firstname': 'Ratliff', 'balance': 47159, 'city': 'Shaft', 'state': 'ND', 'email': 'ratliffheath@zappix.com', 'employer': 'Zappix', 'address': '806 Rockwell Place', 'lastname': 'Heath'}\n",
      "{'account_number': 119, 'age': 28, 'gender': 'F', 'firstname': 'Laverne', 'balance': 49222, 'city': 'Herlong', 'state': 'DC', 'email': 'lavernejohnson@senmei.com', 'employer': 'Senmei', 'address': '302 Howard Place', 'lastname': 'Johnson'}\n",
      "{'account_number': 126, 'age': 39, 'gender': 'F', 'firstname': 'Effie', 'balance': 3607, 'city': 'Blodgett', 'state': 'MD', 'email': 'effiegates@digitalus.com', 'employer': 'Digitalus', 'address': '620 National Drive', 'lastname': 'Gates'}\n",
      "{'account_number': 145, 'age': 32, 'gender': 'M', 'firstname': 'Rowena', 'balance': 47406, 'city': 'Ripley', 'state': 'NH', 'email': 'rowenawilkinson@asimiline.com', 'employer': 'Asimiline', 'address': '891 Elton Street', 'lastname': 'Wilkinson'}\n",
      "{'account_number': 183, 'age': 26, 'gender': 'F', 'firstname': 'Hudson', 'balance': 14223, 'city': 'Robbins', 'state': 'ND', 'email': 'hudsonenglish@xinware.com', 'employer': 'Xinware', 'address': '823 Herkimer Place', 'lastname': 'English'}\n",
      "{'account_number': 190, 'age': 30, 'gender': 'F', 'firstname': 'Blake', 'balance': 3150, 'city': 'Crumpler', 'state': 'KY', 'email': 'blakedavidson@quantasis.com', 'employer': 'Quantasis', 'address': '636 Diamond Street', 'lastname': 'Davidson'}\n",
      "{'account_number': 208, 'age': 26, 'gender': 'F', 'firstname': 'Garcia', 'balance': 40760, 'city': 'Brooktrails', 'state': 'GA', 'email': 'garciahess@quiltigen.com', 'employer': 'Quiltigen', 'address': '810 Nostrand Avenue', 'lastname': 'Hess'}\n",
      "{'account_number': 222, 'age': 36, 'gender': 'M', 'firstname': 'Rachelle', 'balance': 14764, 'city': 'Wright', 'state': 'AZ', 'email': 'rachellerice@enaut.com', 'employer': 'Enaut', 'address': '333 Narrows Avenue', 'lastname': 'Rice'}\n"
     ]
    }
   ],
   "source": [
    "postdata = \"\"\"\n",
    "{\n",
    "  \"query\": {\"match_all\": {}}\n",
    "}\"\"\"\n",
    "printSource(postdata)"
   ]
  },
  {
   "cell_type": "markdown",
   "metadata": {},
   "source": [
    "Return only the first record with `size` (~ LIMIT)"
   ]
  },
  {
   "cell_type": "code",
   "execution_count": 74,
   "metadata": {
    "collapsed": false
   },
   "outputs": [
    {
     "name": "stdout",
     "output_type": "stream",
     "text": [
      "{'account_number': 25, 'age': 39, 'gender': 'F', 'firstname': 'Virginia', 'balance': 40540, 'city': 'Nicholson', 'state': 'PA', 'email': 'virginiaayala@filodyne.com', 'employer': 'Filodyne', 'address': '171 Putnam Avenue', 'lastname': 'Ayala'}\n"
     ]
    }
   ],
   "source": [
    "postdata = \"\"\"\n",
    "{\n",
    "  \"query\": {\"match_all\": {}},\n",
    "  \"size\": 1\n",
    "}\"\"\"\n",
    "printSource(postdata)"
   ]
  },
  {
   "cell_type": "markdown",
   "metadata": {},
   "source": [
    "Return records 10-20 with `from` (~ OFFSET) and `size` (~ LIMIT)"
   ]
  },
  {
   "cell_type": "code",
   "execution_count": 73,
   "metadata": {
    "collapsed": false
   },
   "outputs": [
    {
     "name": "stdout",
     "output_type": "stream",
     "text": [
      "{'account_number': 227, 'age': 22, 'gender': 'M', 'firstname': 'Coleman', 'balance': 19780, 'city': 'Eagleville', 'state': 'WV', 'email': 'colemanberg@exoteric.com', 'employer': 'Exoteric', 'address': '776 Little Street', 'lastname': 'Berg'}\n",
      "{'account_number': 253, 'age': 31, 'gender': 'M', 'firstname': 'Melissa', 'balance': 20240, 'city': 'Lumberton', 'state': 'MD', 'email': 'melissagould@buzzopia.com', 'employer': 'Buzzopia', 'address': '440 Fuller Place', 'lastname': 'Gould'}\n",
      "{'account_number': 260, 'age': 30, 'gender': 'F', 'firstname': 'Kari', 'balance': 2726, 'city': 'Rushford', 'state': 'WV', 'email': 'kariskinner@singavera.com', 'employer': 'Singavera', 'address': '735 Losee Terrace', 'lastname': 'Skinner'}\n",
      "{'account_number': 265, 'age': 26, 'gender': 'F', 'firstname': 'Marion', 'balance': 46910, 'city': 'Maplewood', 'state': 'WY', 'email': 'marionschneider@evidends.com', 'employer': 'Evidends', 'address': '574 Everett Avenue', 'lastname': 'Schneider'}\n",
      "{'account_number': 335, 'age': 24, 'gender': 'M', 'firstname': 'Vera', 'balance': 35433, 'city': 'Manila', 'state': 'TN', 'email': 'verahansen@zanilla.com', 'employer': 'Zanilla', 'address': '252 Bushwick Avenue', 'lastname': 'Hansen'}\n",
      "{'account_number': 366, 'age': 31, 'gender': 'M', 'firstname': 'Lydia', 'balance': 42368, 'city': 'Datil', 'state': 'TN', 'email': 'lydiacooke@comstar.com', 'employer': 'Comstar', 'address': '470 Coleman Street', 'lastname': 'Cooke'}\n",
      "{'account_number': 385, 'age': 22, 'gender': 'M', 'firstname': 'Rosalinda', 'balance': 11022, 'city': 'Waverly', 'state': 'GA', 'email': 'rosalindavalencia@zoarere.com', 'employer': 'Zoarere', 'address': '933 Lloyd Street', 'lastname': 'Valencia'}\n",
      "{'account_number': 397, 'age': 36, 'gender': 'F', 'firstname': 'Leonard', 'balance': 37418, 'city': 'Edenburg', 'state': 'AL', 'email': 'leonardgray@recritube.com', 'employer': 'Recritube', 'address': '840 Morgan Avenue', 'lastname': 'Gray'}\n",
      "{'account_number': 400, 'age': 21, 'gender': 'F', 'firstname': 'Kane', 'balance': 20685, 'city': 'Gulf', 'state': 'VT', 'email': 'kaneking@tri@tribalog.com', 'employer': 'Tri@Tribalog', 'address': '405 Cornelia Street', 'lastname': 'King'}\n",
      "{'account_number': 450, 'age': 25, 'gender': 'M', 'firstname': 'Bradford', 'balance': 2643, 'city': 'Hamilton', 'state': 'DE', 'email': 'bradfordnielsen@exovent.com', 'employer': 'Exovent', 'address': '487 Keen Court', 'lastname': 'Nielsen'}\n"
     ]
    }
   ],
   "source": [
    "postdata = \"\"\"\n",
    "{\n",
    "  \"query\": {\"match_all\": {}},\n",
    "  \"from\": 10,\n",
    "  \"size\": 10\n",
    "}\"\"\"\n",
    "printSource(postdata)"
   ]
  },
  {
   "cell_type": "markdown",
   "metadata": {},
   "source": [
    "Sorting hit list by `sort` (~ ORDER BY)"
   ]
  },
  {
   "cell_type": "code",
   "execution_count": 72,
   "metadata": {
    "collapsed": false
   },
   "outputs": [
    {
     "name": "stdout",
     "output_type": "stream",
     "text": [
      "{'account_number': 248, 'age': 36, 'gender': 'M', 'firstname': 'West', 'balance': 49989, 'city': 'Maury', 'state': 'WA', 'email': 'westengland@obliq.com', 'employer': 'Obliq', 'address': '717 Hendrickson Place', 'lastname': 'England'}\n",
      "{'account_number': 854, 'age': 25, 'gender': 'F', 'firstname': 'Jimenez', 'balance': 49795, 'city': 'Moscow', 'state': 'AL', 'email': 'jimenezbarry@verton.com', 'employer': 'Verton', 'address': '603 Cooper Street', 'lastname': 'Barry'}\n",
      "{'account_number': 240, 'age': 35, 'gender': 'F', 'firstname': 'Oconnor', 'balance': 49741, 'city': 'Kilbourne', 'state': 'NH', 'email': 'oconnorclay@franscene.com', 'employer': 'Franscene', 'address': '659 Highland Boulevard', 'lastname': 'Clay'}\n",
      "{'account_number': 97, 'age': 40, 'gender': 'F', 'firstname': 'Karen', 'balance': 49671, 'city': 'Fredericktown', 'state': 'MO', 'email': 'karentrujillo@tsunamia.com', 'employer': 'Tsunamia', 'address': '512 Cumberland Walk', 'lastname': 'Trujillo'}\n",
      "{'account_number': 842, 'age': 23, 'gender': 'F', 'firstname': 'Meagan', 'balance': 49587, 'city': 'Craig', 'state': 'TX', 'email': 'meaganbuckner@biospan.com', 'employer': 'Biospan', 'address': '833 Bushwick Court', 'lastname': 'Buckner'}\n",
      "{'account_number': 168, 'age': 20, 'gender': 'M', 'firstname': 'Carissa', 'balance': 49568, 'city': 'Neibert', 'state': 'IL', 'email': 'carissasimon@zillacom.com', 'employer': 'Zillacom', 'address': '975 Flatbush Avenue', 'lastname': 'Simon'}\n",
      "{'account_number': 803, 'age': 25, 'gender': 'M', 'firstname': 'Marissa', 'balance': 49567, 'city': 'Bloomington', 'state': 'MS', 'email': 'marissaspears@centregy.com', 'employer': 'Centregy', 'address': '963 Highland Avenue', 'lastname': 'Spears'}\n",
      "{'account_number': 926, 'age': 21, 'gender': 'M', 'firstname': 'Welch', 'balance': 49433, 'city': 'Hampstead', 'state': 'VT', 'email': 'welchmcgowan@atomica.com', 'employer': 'Atomica', 'address': '833 Quincy Street', 'lastname': 'Mcgowan'}\n",
      "{'account_number': 954, 'age': 22, 'gender': 'M', 'firstname': 'Jenna', 'balance': 49404, 'city': 'Oasis', 'state': 'MD', 'email': 'jennamartin@zinca.com', 'employer': 'Zinca', 'address': '688 Hart Street', 'lastname': 'Martin'}\n",
      "{'account_number': 572, 'age': 20, 'gender': 'M', 'firstname': 'Therese', 'balance': 49355, 'city': 'Hayes', 'state': 'UT', 'email': 'thereseespinoza@gonkle.com', 'employer': 'Gonkle', 'address': '994 Chester Court', 'lastname': 'Espinoza'}\n"
     ]
    }
   ],
   "source": [
    "postdata = \"\"\"\n",
    "{\n",
    "  \"query\": {\"match_all\": {}},\n",
    "  \"sort\": { \"balance\": { \"order\": \"desc\" } }\n",
    "}\"\"\"\n",
    "printSource(postdata)"
   ]
  },
  {
   "cell_type": "markdown",
   "metadata": {},
   "source": [
    "Select fields (~ SELECT statement)"
   ]
  },
  {
   "cell_type": "code",
   "execution_count": 71,
   "metadata": {
    "collapsed": false
   },
   "outputs": [
    {
     "name": "stdout",
     "output_type": "stream",
     "text": [
      "{'account_number': 25, 'balance': 40540}\n",
      "{'account_number': 44, 'balance': 34487}\n",
      "{'account_number': 99, 'balance': 47159}\n",
      "{'account_number': 119, 'balance': 49222}\n",
      "{'account_number': 126, 'balance': 3607}\n",
      "{'account_number': 145, 'balance': 47406}\n",
      "{'account_number': 183, 'balance': 14223}\n",
      "{'account_number': 190, 'balance': 3150}\n",
      "{'account_number': 208, 'balance': 40760}\n",
      "{'account_number': 222, 'balance': 14764}\n"
     ]
    }
   ],
   "source": [
    "postdata = \"\"\"\n",
    "{\n",
    "  \"query\": {\"match_all\": {}},\n",
    "  \"_source\": [\"account_number\", \"balance\"]\n",
    "}\"\"\"\n",
    "printSource(postdata)"
   ]
  },
  {
   "cell_type": "markdown",
   "metadata": {},
   "source": [
    "Query by exact numeric field value with `match`"
   ]
  },
  {
   "cell_type": "code",
   "execution_count": 70,
   "metadata": {
    "collapsed": false
   },
   "outputs": [
    {
     "name": "stdout",
     "output_type": "stream",
     "text": [
      "{'account_number': 20, 'age': 36, 'gender': 'M', 'firstname': 'Elinor', 'balance': 16418, 'city': 'Ribera', 'state': 'WA', 'email': 'elinorratliff@scentric.com', 'employer': 'Scentric', 'address': '282 Kings Place', 'lastname': 'Ratliff'}\n"
     ]
    }
   ],
   "source": [
    "postdata = \"\"\"\n",
    "{\n",
    "  \"query\": { \"match\": { \"account_number\": 20 } }\n",
    "}\"\"\"\n",
    "printSource(postdata)"
   ]
  },
  {
   "cell_type": "markdown",
   "metadata": {},
   "source": [
    "Query by text field values"
   ]
  },
  {
   "cell_type": "code",
   "execution_count": 69,
   "metadata": {
    "collapsed": false
   },
   "outputs": [
    {
     "name": "stdout",
     "output_type": "stream",
     "text": [
      "{'account_number': 472, 'age': 32, 'gender': 'F', 'firstname': 'Lee', 'balance': 25571, 'city': 'Movico', 'state': 'MT', 'email': 'leelong@comverges.com', 'employer': 'Comverges', 'address': '288 Mill Street', 'lastname': 'Long'}\n",
      "{'account_number': 136, 'age': 38, 'gender': 'M', 'firstname': 'Winnie', 'balance': 45801, 'city': 'Urie', 'state': 'IL', 'email': 'winnieholland@neteria.com', 'employer': 'Neteria', 'address': '198 Mill Lane', 'lastname': 'Holland'}\n",
      "{'account_number': 970, 'age': 28, 'gender': 'M', 'firstname': 'Forbes', 'balance': 19648, 'city': 'Lopezo', 'state': 'AK', 'email': 'forbeswallace@pheast.com', 'employer': 'Pheast', 'address': '990 Mill Road', 'lastname': 'Wallace'}\n",
      "{'account_number': 345, 'age': 38, 'gender': 'M', 'firstname': 'Parker', 'balance': 9812, 'city': 'Blackgum', 'state': 'KY', 'email': 'parkerhines@baluba.com', 'employer': 'Baluba', 'address': '715 Mill Avenue', 'lastname': 'Hines'}\n"
     ]
    }
   ],
   "source": [
    "postdata = \"\"\"\n",
    "{\n",
    "  \"query\": { \"match\": { \"address\": \"mill\" } }\n",
    "}\"\"\"\n",
    "printSource(postdata)"
   ]
  },
  {
   "cell_type": "markdown",
   "metadata": {},
   "source": [
    "mill OR lane"
   ]
  },
  {
   "cell_type": "code",
   "execution_count": 68,
   "metadata": {
    "collapsed": false
   },
   "outputs": [
    {
     "name": "stdout",
     "output_type": "stream",
     "text": [
      "{'address': '198 Mill Lane'}\n",
      "{'address': '288 Mill Street'}\n",
      "{'address': '990 Mill Road'}\n",
      "{'address': '715 Mill Avenue'}\n",
      "{'address': '929 Eldert Lane'}\n",
      "{'address': '410 Jamison Lane'}\n",
      "{'address': '591 Nolans Lane'}\n",
      "{'address': '448 Cove Lane'}\n",
      "{'address': '945 Bedell Lane'}\n",
      "{'address': '317 Pooles Lane'}\n"
     ]
    }
   ],
   "source": [
    "postdata = \"\"\"\n",
    "{\n",
    "  \"query\": { \"match\": { \"address\": \"mill lane\" } },\n",
    "  \"_source\": [\"address\"]\n",
    "}\"\"\"\n",
    "printSource(postdata)"
   ]
  },
  {
   "cell_type": "markdown",
   "metadata": {},
   "source": [
    "\"mill lane\" as one phrase with `match_prase`"
   ]
  },
  {
   "cell_type": "code",
   "execution_count": 67,
   "metadata": {
    "collapsed": false,
    "scrolled": true
   },
   "outputs": [
    {
     "name": "stdout",
     "output_type": "stream",
     "text": [
      "{'address': '198 Mill Lane'}\n"
     ]
    }
   ],
   "source": [
    "postdata = \"\"\"\n",
    "{\n",
    "  \"query\": { \"match_phrase\": { \"address\": \"mill lane\" } },\n",
    "  \"_source\": [\"address\"]\n",
    "}\"\"\"\n",
    "printSource(postdata)"
   ]
  },
  {
   "cell_type": "markdown",
   "metadata": {},
   "source": [
    "Boolean AND: mill AND lane with `bool`, `must` and `match`"
   ]
  },
  {
   "cell_type": "code",
   "execution_count": 66,
   "metadata": {
    "collapsed": false,
    "scrolled": true
   },
   "outputs": [
    {
     "name": "stdout",
     "output_type": "stream",
     "text": [
      "{'address': '198 Mill Lane'}\n"
     ]
    }
   ],
   "source": [
    "postdata = \"\"\"\n",
    "{\n",
    "  \"query\": {\n",
    "    \"bool\": {\n",
    "      \"must\": [\n",
    "        { \"match\": { \"address\": \"mill\" } },\n",
    "        { \"match\": { \"address\": \"lane\" } }\n",
    "      ]\n",
    "    }\n",
    "  },\n",
    "  \"_source\": [\"address\"]\n",
    "}\"\"\"\n",
    "printSource(postdata)"
   ]
  },
  {
   "cell_type": "markdown",
   "metadata": {},
   "source": [
    "Boolean OR: mill OR lane with `bool`, `should` and `match`"
   ]
  },
  {
   "cell_type": "code",
   "execution_count": 65,
   "metadata": {
    "collapsed": false,
    "scrolled": true
   },
   "outputs": [
    {
     "name": "stdout",
     "output_type": "stream",
     "text": [
      "{'address': '198 Mill Lane'}\n",
      "{'address': '288 Mill Street'}\n",
      "{'address': '990 Mill Road'}\n",
      "{'address': '715 Mill Avenue'}\n",
      "{'address': '929 Eldert Lane'}\n",
      "{'address': '410 Jamison Lane'}\n",
      "{'address': '591 Nolans Lane'}\n",
      "{'address': '448 Cove Lane'}\n",
      "{'address': '945 Bedell Lane'}\n",
      "{'address': '317 Pooles Lane'}\n"
     ]
    }
   ],
   "source": [
    "postdata = \"\"\"\n",
    "{\n",
    "  \"query\": {\n",
    "    \"bool\": {\n",
    "      \"should\": [\n",
    "        { \"match\": { \"address\": \"mill\" } },\n",
    "        { \"match\": { \"address\": \"lane\" } }\n",
    "      ]\n",
    "    }\n",
    "  },\n",
    "  \"_source\": [\"address\"]\n",
    "}\"\"\"\n",
    "printSource(postdata)"
   ]
  },
  {
   "cell_type": "markdown",
   "metadata": {},
   "source": [
    "Boolean NOT: neither \"mill\" nor \"lane\" with `must_not`"
   ]
  },
  {
   "cell_type": "code",
   "execution_count": 64,
   "metadata": {
    "collapsed": false,
    "scrolled": false
   },
   "outputs": [
    {
     "name": "stdout",
     "output_type": "stream",
     "text": [
      "{'address': '171 Putnam Avenue'}\n",
      "{'address': '502 Baycliff Terrace'}\n",
      "{'address': '806 Rockwell Place'}\n",
      "{'address': '302 Howard Place'}\n",
      "{'address': '620 National Drive'}\n",
      "{'address': '891 Elton Street'}\n",
      "{'address': '823 Herkimer Place'}\n",
      "{'address': '636 Diamond Street'}\n",
      "{'address': '810 Nostrand Avenue'}\n",
      "{'address': '333 Narrows Avenue'}\n"
     ]
    }
   ],
   "source": [
    "postdata = \"\"\"\n",
    "{\n",
    "  \"query\": {\n",
    "    \"bool\": {\n",
    "      \"must_not\": [\n",
    "        { \"match\": { \"address\": \"mill\" } },\n",
    "        { \"match\": { \"address\": \"lane\" } }\n",
    "      ]\n",
    "    }\n",
    "  },\n",
    "  \"_source\": [\"address\"]\n",
    "}\"\"\"\n",
    "printSource(postdata)"
   ]
  },
  {
   "cell_type": "markdown",
   "metadata": {},
   "source": [
    "A more complex example: `age` = 40 but `state` is not Indiana"
   ]
  },
  {
   "cell_type": "code",
   "execution_count": 63,
   "metadata": {
    "collapsed": false,
    "scrolled": false
   },
   "outputs": [
    {
     "name": "stdout",
     "output_type": "stream",
     "text": [
      "{'age': 40, 'state': 'OR'}\n",
      "{'age': 40, 'state': 'CA'}\n",
      "{'age': 40, 'state': 'NC'}\n",
      "{'age': 40, 'state': 'KY'}\n",
      "{'age': 40, 'state': 'AL'}\n",
      "{'age': 40, 'state': 'HI'}\n",
      "{'age': 40, 'state': 'VT'}\n",
      "{'age': 40, 'state': 'AK'}\n",
      "{'age': 40, 'state': 'OR'}\n",
      "{'age': 40, 'state': 'WA'}\n"
     ]
    }
   ],
   "source": [
    "postdata = \"\"\"\n",
    "{\n",
    "  \"query\": {\n",
    "    \"bool\": {\n",
    "      \"must\": [\n",
    "        { \"match\": { \"age\": \"40\" } }\n",
    "      ],\n",
    "      \"must_not\": [\n",
    "        { \"match\": { \"state\": \"ID\" } }\n",
    "      ]\n",
    "    }\n",
    "  },\n",
    "  \"_source\": [\"age\", \"state\"]\n",
    "}\"\"\"\n",
    "printSource(postdata)"
   ]
  },
  {
   "cell_type": "markdown",
   "metadata": {},
   "source": [
    "### Filters\n",
    "Purpose: reuse query cache "
   ]
  },
  {
   "cell_type": "code",
   "execution_count": 77,
   "metadata": {
    "collapsed": false,
    "scrolled": false
   },
   "outputs": [
    {
     "name": "stdout",
     "output_type": "stream",
     "text": [
      "{'age': 31, 'balance': 20240, 'state': 'MD'}\n",
      "{'age': 21, 'balance': 20685, 'state': 'VT'}\n",
      "{'age': 32, 'balance': 27987, 'state': 'OR'}\n",
      "{'age': 26, 'balance': 29362, 'state': 'NE'}\n",
      "{'age': 23, 'balance': 20325, 'state': 'PA'}\n",
      "{'age': 21, 'balance': 25291, 'state': 'AL'}\n",
      "{'age': 35, 'balance': 22575, 'state': 'OK'}\n",
      "{'age': 39, 'balance': 20480, 'state': 'NY'}\n",
      "{'age': 28, 'balance': 27894, 'state': 'KS'}\n",
      "{'age': 39, 'balance': 27714, 'state': 'LA'}\n"
     ]
    }
   ],
   "source": [
    "postdata = \"\"\"\n",
    "{\n",
    "  \"query\": {\n",
    "    \"bool\": {\n",
    "      \"must\": { \"match_all\": {} },\n",
    "      \"filter\": {\n",
    "        \"range\": {\n",
    "          \"balance\": {\n",
    "            \"gte\": 20000,\n",
    "            \"lte\": 30000\n",
    "          }\n",
    "        }\n",
    "      }\n",
    "    }\n",
    "  },\n",
    "  \"_source\": [\"age\", \"state\", \"balance\"]\n",
    "}\"\"\"\n",
    "printSource(postdata)"
   ]
  },
  {
   "cell_type": "markdown",
   "metadata": {},
   "source": [
    "### Aggregations"
   ]
  },
  {
   "cell_type": "code",
   "execution_count": 83,
   "metadata": {
    "collapsed": false,
    "scrolled": false
   },
   "outputs": [
    {
     "name": "stdout",
     "output_type": "stream",
     "text": [
      "{'doc_count': 30, 'key': 'tx'}\n",
      "{'doc_count': 28, 'key': 'md'}\n",
      "{'doc_count': 27, 'key': 'id'}\n",
      "{'doc_count': 25, 'key': 'al'}\n",
      "{'doc_count': 25, 'key': 'me'}\n",
      "{'doc_count': 25, 'key': 'tn'}\n",
      "{'doc_count': 25, 'key': 'wy'}\n",
      "{'doc_count': 24, 'key': 'dc'}\n",
      "{'doc_count': 24, 'key': 'ma'}\n",
      "{'doc_count': 24, 'key': 'nd'}\n"
     ]
    }
   ],
   "source": [
    "postdata = \"\"\"\n",
    "{\n",
    "  \"size\": 0,\n",
    "  \"aggs\": {\n",
    "    \"group_by_state\": {\n",
    "      \"terms\": {\n",
    "        \"field\": \"state\"\n",
    "      }\n",
    "    }\n",
    "  }\n",
    "}\"\"\"\n",
    "data = getEC(postdata)\n",
    "RenderJSON(data)\n",
    "for item in data['aggregations']['group_by_state']['buckets']:\n",
    "  print(item)"
   ]
  },
  {
   "cell_type": "markdown",
   "metadata": {},
   "source": [
    "adding more info to aggregation"
   ]
  },
  {
   "cell_type": "code",
   "execution_count": 86,
   "metadata": {
    "collapsed": false,
    "scrolled": false
   },
   "outputs": [
    {
     "name": "stdout",
     "output_type": "stream",
     "text": [
      "{'doc_count': 30, 'key': 'tx', 'average_balance': {'value': 26073.3}}\n",
      "{'doc_count': 28, 'key': 'md', 'average_balance': {'value': 26161.535714285714}}\n",
      "{'doc_count': 27, 'key': 'id', 'average_balance': {'value': 24368.777777777777}}\n",
      "{'doc_count': 25, 'key': 'al', 'average_balance': {'value': 25739.56}}\n",
      "{'doc_count': 25, 'key': 'me', 'average_balance': {'value': 21663.0}}\n",
      "{'doc_count': 25, 'key': 'tn', 'average_balance': {'value': 28365.4}}\n",
      "{'doc_count': 25, 'key': 'wy', 'average_balance': {'value': 21731.52}}\n",
      "{'doc_count': 24, 'key': 'dc', 'average_balance': {'value': 23180.583333333332}}\n",
      "{'doc_count': 24, 'key': 'ma', 'average_balance': {'value': 29600.333333333332}}\n",
      "{'doc_count': 24, 'key': 'nd', 'average_balance': {'value': 26577.333333333332}}\n"
     ]
    }
   ],
   "source": [
    "postdata = \"\"\"\n",
    "{\n",
    "  \"size\": 0,\n",
    "  \"aggs\": {\n",
    "    \"group_by_state\": {\n",
    "      \"terms\": {\n",
    "        \"field\": \"state\"\n",
    "      },\n",
    "      \"aggs\": {\n",
    "        \"average_balance\": {\n",
    "          \"avg\": {\n",
    "            \"field\": \"balance\"\n",
    "          }\n",
    "        }\n",
    "      }\n",
    "    }\n",
    "  }\n",
    "}\"\"\"\n",
    "data = getEC(postdata)\n",
    "RenderJSON(data)\n",
    "for item in data['aggregations']['group_by_state']['buckets']:\n",
    "  print(item)"
   ]
  },
  {
   "cell_type": "markdown",
   "metadata": {},
   "source": [
    "order by the extra info"
   ]
  },
  {
   "cell_type": "code",
   "execution_count": 87,
   "metadata": {
    "collapsed": false,
    "scrolled": false
   },
   "outputs": [
    {
     "name": "stdout",
     "output_type": "stream",
     "text": [
      "{'doc_count': 14, 'key': 'co', 'average_balance': {'value': 32460.35714285714}}\n",
      "{'doc_count': 16, 'key': 'ne', 'average_balance': {'value': 32041.5625}}\n",
      "{'doc_count': 14, 'key': 'az', 'average_balance': {'value': 31634.785714285714}}\n",
      "{'doc_count': 17, 'key': 'mt', 'average_balance': {'value': 31147.41176470588}}\n",
      "{'doc_count': 16, 'key': 'va', 'average_balance': {'value': 30600.0625}}\n",
      "{'doc_count': 19, 'key': 'ga', 'average_balance': {'value': 30089.0}}\n",
      "{'doc_count': 24, 'key': 'ma', 'average_balance': {'value': 29600.333333333332}}\n",
      "{'doc_count': 22, 'key': 'il', 'average_balance': {'value': 29489.727272727272}}\n",
      "{'doc_count': 14, 'key': 'nm', 'average_balance': {'value': 28792.64285714286}}\n",
      "{'doc_count': 17, 'key': 'la', 'average_balance': {'value': 28791.823529411766}}\n"
     ]
    }
   ],
   "source": [
    "postdata = \"\"\"\n",
    "{\n",
    "  \"size\": 0,\n",
    "  \"aggs\": {\n",
    "    \"group_by_state\": {\n",
    "      \"terms\": {\n",
    "        \"field\": \"state\",\n",
    "        \"order\": {\n",
    "          \"average_balance\": \"desc\"\n",
    "        }\n",
    "      },\n",
    "      \"aggs\": {\n",
    "        \"average_balance\": {\n",
    "          \"avg\": {\n",
    "            \"field\": \"balance\"\n",
    "          }\n",
    "        }\n",
    "      }\n",
    "    }\n",
    "  }\n",
    "}\"\"\"\n",
    "data = getEC(postdata)\n",
    "RenderJSON(data)\n",
    "for item in data['aggregations']['group_by_state']['buckets']:\n",
    "  print(item)"
   ]
  },
  {
   "cell_type": "code",
   "execution_count": null,
   "metadata": {
    "collapsed": true
   },
   "outputs": [],
   "source": []
  },
  {
   "cell_type": "code",
   "execution_count": 91,
   "metadata": {
    "collapsed": false,
    "scrolled": false
   },
   "outputs": [
    {
     "data": {
      "text/html": [
       "<div id=\"20029687-a611-46ad-9dae-dbc2acc853b0\" style=\"height: 600px; width:100%;\"></div>"
      ]
     },
     "metadata": {},
     "output_type": "display_data"
    },
    {
     "data": {
      "application/javascript": [
       "\n",
       "        require([\"https://rawgit.com/caldwell/renderjson/master/renderjson.js\"], function() {\n",
       "          document.getElementById('20029687-a611-46ad-9dae-dbc2acc853b0').appendChild(renderjson({\"timed_out\": false, \"took\": 13, \"hits\": {\"total\": 1000, \"max_score\": 0.0, \"hits\": []}, \"_shards\": {\"total\": 5, \"failed\": 0, \"successful\": 5}, \"aggregations\": {\"group_by_age\": {\"buckets\": [{\"doc_count\": 451, \"from_as_string\": \"20.0\", \"from\": 20.0, \"group_by_gender\": {\"doc_count_error_upper_bound\": 0, \"sum_other_doc_count\": 0, \"buckets\": [{\"doc_count\": 232, \"key\": \"m\", \"average_balance\": {\"value\": 27374.05172413793}}, {\"doc_count\": 219, \"key\": \"f\", \"average_balance\": {\"value\": 25341.260273972603}}]}, \"to\": 30.0, \"key\": \"20.0-30.0\", \"to_as_string\": \"30.0\"}, {\"doc_count\": 504, \"from_as_string\": \"30.0\", \"from\": 30.0, \"group_by_gender\": {\"doc_count_error_upper_bound\": 0, \"sum_other_doc_count\": 0, \"buckets\": [{\"doc_count\": 253, \"key\": \"f\", \"average_balance\": {\"value\": 25670.869565217392}}, {\"doc_count\": 251, \"key\": \"m\", \"average_balance\": {\"value\": 24288.239043824702}}]}, \"to\": 40.0, \"key\": \"30.0-40.0\", \"to_as_string\": \"40.0\"}, {\"doc_count\": 45, \"from_as_string\": \"40.0\", \"from\": 40.0, \"group_by_gender\": {\"doc_count_error_upper_bound\": 0, \"sum_other_doc_count\": 0, \"buckets\": [{\"doc_count\": 24, \"key\": \"m\", \"average_balance\": {\"value\": 26474.958333333332}}, {\"doc_count\": 21, \"key\": \"f\", \"average_balance\": {\"value\": 27992.571428571428}}]}, \"to\": 50.0, \"key\": \"40.0-50.0\", \"to_as_string\": \"50.0\"}]}}}))\n",
       "        });\n",
       "        "
      ]
     },
     "metadata": {},
     "output_type": "display_data"
    }
   ],
   "source": [
    "postdata = \"\"\"\n",
    "{\n",
    "  \"size\": 0,\n",
    "  \"aggs\": {\n",
    "    \"group_by_age\": {\n",
    "      \"range\": {\n",
    "        \"field\": \"age\",\n",
    "        \"ranges\": [\n",
    "          {\"from\": 20, \"to\": 30},\n",
    "          {\"from\": 30, \"to\": 40},\n",
    "          {\"from\": 40, \"to\": 50}\n",
    "        ]\n",
    "      },\n",
    "      \"aggs\": {\n",
    "        \"group_by_gender\": {\n",
    "          \"terms\": {\n",
    "            \"field\": \"gender\"\n",
    "          },\n",
    "          \"aggs\": {\n",
    "            \"average_balance\": {\n",
    "              \"avg\": {\n",
    "                \"field\": \"balance\"\n",
    "              }\n",
    "            }\n",
    "          }\n",
    "        }\n",
    "      }\n",
    "    }\n",
    "  }\n",
    "}\"\"\"\n",
    "data = getEC(postdata)\n",
    "RenderJSON(data)\n",
    "#for item in data['aggregations']['group_by_age']['buckets']:\n",
    "#  print(item)"
   ]
  }
 ],
 "metadata": {
  "kernelspec": {
   "display_name": "Python 3",
   "language": "python",
   "name": "python3"
  },
  "language_info": {
   "codemirror_mode": {
    "name": "ipython",
    "version": 3
   },
   "file_extension": ".py",
   "mimetype": "text/x-python",
   "name": "python",
   "nbconvert_exporter": "python",
   "pygments_lexer": "ipython3",
   "version": "3.5.0"
  }
 },
 "nbformat": 4,
 "nbformat_minor": 0
}
