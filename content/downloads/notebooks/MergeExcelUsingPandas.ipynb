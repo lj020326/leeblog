{
 "cells": [
  {
   "cell_type": "markdown",
   "metadata": {},
   "source": [
    "# Merging Excel Data into single dataframe using Pandas"
   ]
  },
  {
   "cell_type": "markdown",
   "metadata": {},
   "source": [
    "*This notebook originally appeared as a [post](http://lj020326.github.io/blog/2017/12/18/simulating-chutes-and-ladders/) on the blog [Python Automation Journal](http://lj020326.github.io).*"
   ]
  },
  {
   "cell_type": "markdown",
   "metadata": {},
   "source": [
    "<!-- PELICAN_BEGIN_SUMMARY -->\n",
    "\n",
    "In my prior [post](http://leeblog.org/blog/2018/04/24/merging-itunes-playlists-using-pandas/), I loaded 2 playlists in an iTunes text export format into pandas dataframes to match into 1 single dataframe.\n",
    "\n",
    "Here I repeat the last step of the prior post assuming that the 2 text files were first imported into excel.\n",
    "\n",
    "<!-- PELICAN_END_SUMMARY -->\n",
    "\n",
    "For those who aren't familiar, this post is composed in the form of a [Jupyter Notebook](https://jupyter.org/), which is an open document format that combines text, code, data, and graphics and is viewable through the web browser – if you have not used it before I encourage you to try it out!\n",
    "\n",
    "You can download the notebook containing this post [here](http://lj020326.github.io/downloads/notebooks/MergeExcelUsingPandas.ipynb), open it with Jupyter, and start asking your own questions of the data."
   ]
  },
  {
   "cell_type": "markdown",
   "metadata": {},
   "source": [
    "## Setup notebook output options\n",
    "\n",
    "Set notebook output formatting options:"
   ]
  },
  {
   "cell_type": "code",
   "execution_count": 4,
   "metadata": {},
   "outputs": [
    {
     "data": {
      "text/html": [
       "<style>.container { width:100% !important; }</style>"
      ],
      "text/plain": [
       "<IPython.core.display.HTML object>"
      ]
     },
     "metadata": {},
     "output_type": "display_data"
    }
   ],
   "source": [
    "from IPython.core.interactiveshell import InteractiveShell\n",
    "InteractiveShell.ast_node_interactivity = \"all\"\n",
    "InteractiveShell.log_level = 'INFO'\n",
    "\n",
    "from IPython.core.display import display, HTML\n",
    "display(HTML(\"<style>.container { width:100% !important; }</style>\"))\n"
   ]
  },
  {
   "cell_type": "markdown",
   "metadata": {},
   "source": [
    "## Import standard libraries\n",
    "\n",
    "Some standard Python package imports:"
   ]
  },
  {
   "cell_type": "code",
   "execution_count": 5,
   "metadata": {},
   "outputs": [],
   "source": [
    "%matplotlib inline\n",
    "import pandas as pd\n",
    "import numpy as np\n",
    "import logging\n",
    "import sys\n",
    "\n",
    "from collections import OrderedDict\n",
    "\n",
    "log = logging.getLogger()\n",
    "log.handlers = []\n",
    "ch = logging.StreamHandler()\n",
    "ch.setLevel(logging.DEBUG)\n",
    "formatter = logging.Formatter('%(asctime)s - %(levelname)s - %(message)s')\n",
    "ch.setFormatter(formatter)\n",
    "log.setLevel(logging.INFO)\n",
    "# log.setLevel(logging.DEBUG)\n",
    "log.addHandler(ch)\n",
    "\n",
    "pd.set_option('display.width',1000)\n",
    "# pd.set_option('max_colwidth',200)\n",
    "pd.reset_option('max_colwidth')\n",
    "\n"
   ]
  },
  {
   "cell_type": "markdown",
   "metadata": {},
   "source": [
    "## Import Itunes Playlist Data\n",
    "\n",
    "We'll start by exporting the itunes playlist data (for howto export itunes playlists [itunes](https://support.apple.com/kb/PH19491?locale=en_US)).\n",
    "I chose the text export option rather than xml.\n",
    "\n",
    "After exporting, I opened and saved the file in excel.\n",
    "I now have 2 playlist excel files as seen in the example below.\n",
    "\n",
    "Note that I could directly import the text formatted file.\n",
    "I use excel here to simply demonstrate that excel based imports will also work.\n",
    "\n",
    "We now load the 2 playlists into list_of_playlists.\n"
   ]
  },
  {
   "cell_type": "code",
   "execution_count": 6,
   "metadata": {},
   "outputs": [
    {
     "name": "stderr",
     "output_type": "stream",
     "text": [
      "2018-04-24 15:35:13,785 - INFO - ## data/Top80_sPop&Rock.xlsx: df.shape=(634, 31)\n",
      "2018-04-24 15:35:13,857 - INFO - ## data/TopAlt&Electronic.xlsx: df.shape=(185, 31)\n",
      "2018-04-24 15:35:13,882 - INFO - inner_df.shape=(67, 60)\n",
      "2018-04-24 15:35:13,885 - INFO - merged_df.shape=(752, 60)\n",
      "2018-04-24 15:35:13,888 - INFO - Rows in dataset1=634\n",
      "2018-04-24 15:35:13,891 - INFO - Rows in dataset2=185\n",
      "2018-04-24 15:35:13,892 - INFO - Rows in intersection=67\n",
      "2018-04-24 15:35:13,894 - INFO - Rows in union=752\n",
      "2018-04-24 15:35:13,897 - INFO - (Rows in union==Rows in merged) = True\n"
     ]
    }
   ],
   "source": [
    "\n",
    "all_files = ['data/Top80_sPop&Rock.xlsx','data/TopAlt&Electronic.xlsx']\n",
    "list_of_playlists= []\n",
    "for file_ in all_files:\n",
    "    xls_file = pd.ExcelFile(file_)\n",
    "    df = xls_file.parse(0)  ## load first sheet - there should only be one\n",
    "    \n",
    "    df.drop_duplicates(subset=['Artist', 'Name'], inplace=True)\n",
    "    log.info(\"## %s: df.shape=%s\" % (file_, str(df.shape)))\n",
    "\n",
    "    list_of_playlists.append(df)\n",
    "\n",
    "inner_df = reduce(lambda left,right: pd.merge(left,right,on=['Artist','Name'], how='inner'), list_of_playlists)\n",
    "merged_df = reduce(lambda left,right: pd.merge(left,right,on=['Artist','Name'], how='outer'), list_of_playlists)\n",
    "\n",
    "log.info(\"inner_df.shape=%s\" % str(inner_df.shape))\n",
    "log.info(\"merged_df.shape=%s\" % str(merged_df.shape))\n",
    "\n",
    "df1_cnt=list_of_playlists[0].shape[0]\n",
    "df2_cnt=list_of_playlists[1].shape[0]\n",
    "df_inner_cnt=inner_df.shape[0]\n",
    "df_union_cnt=df1_cnt+df2_cnt-df_inner_cnt\n",
    "df_merged_cnt=merged_df.shape[0]\n",
    "\n",
    "log.info(\"Rows in dataset1=%s\" % df1_cnt)\n",
    "log.info(\"Rows in dataset2=%s\" % df2_cnt)\n",
    "log.info(\"Rows in intersection=%s\" % df_inner_cnt)\n",
    "log.info(\"Rows in union=%s\" % df_union_cnt)\n",
    "log.info(\"(Rows in union==Rows in merged) = %s\" % (df_union_cnt==df_merged_cnt))\n"
   ]
  },
  {
   "cell_type": "markdown",
   "metadata": {},
   "source": [
    "So the data set union count agrees with the merged dataframe count.\n"
   ]
  }
 ],
 "metadata": {
  "kernelspec": {
   "display_name": "Python 3 (ipykernel)",
   "language": "python",
   "name": "python3"
  },
  "language_info": {
   "codemirror_mode": {
    "name": "ipython",
    "version": 3
   },
   "file_extension": ".py",
   "mimetype": "text/x-python",
   "name": "python",
   "nbconvert_exporter": "python",
   "pygments_lexer": "ipython3",
   "version": "3.10.2"
  }
 },
 "nbformat": 4,
 "nbformat_minor": 1
}
