{
 "metadata": {
  "name": "",
  "signature": "sha256:ea85565e6e7d74be0be18486e96e78682b9ca14b2a902b76af4fb96091735ac5"
 },
 "nbformat": 3,
 "nbformat_minor": 0,
 "worksheets": [
  {
   "cells": [
    {
     "cell_type": "markdown",
     "metadata": {},
     "source": [
      "Here is a first cell. Below this, I have an HTML comment which looks like ``<!-- PELICAN_BEGIN_SUMMARY -->``\n",
      "\n",
      "The notebook fails to load. This does not happen in IPython 1.x"
     ]
    },
    {
     "cell_type": "markdown",
     "metadata": {},
     "source": [
      "<!-- PELICAN_BEGIN_SUMMARY -->\n",
      "One of the first things a scientist hears about statistics is that there is are two different approaches: frequentism and Bayesianism.\n",
      "\n",
      "I'll start by addressing the philosophical distinctions between the views, and from there move to discussion of how these ideas are applied in practice.\n",
      "<!-- PELICAN_END_SUMMARY -->"
     ]
    },
    {
     "cell_type": "markdown",
     "metadata": {},
     "source": [
      "Here is the next cell. You won't see this in IPython 2.x"
     ]
    }
   ],
   "metadata": {}
  }
 ]
}