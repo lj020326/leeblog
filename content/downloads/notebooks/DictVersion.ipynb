{
 "cells": [
  {
   "cell_type": "markdown",
   "metadata": {},
   "source": [
    "# Exposing Python 3.6's Private Dict Version"
   ]
  },
  {
   "cell_type": "markdown",
   "metadata": {},
   "source": [
    "*This notebook originally appeared as a [post](http://jakevdp.github.io/blog/2017/05/26/exposing-private-dict-version/) on the blog [Pythonic Perambulations](http://jakevdp.github.io). The content is MIT licensed.*"
   ]
  },
  {
   "cell_type": "markdown",
   "metadata": {},
   "source": [
    "<!--PELICAN_BEGIN_SUMMARY-->\n",
    "\n",
    "I just got home from my sixth PyCon, and it was wonderful as usual. If you weren't able to attend—or even if you were—you'll find a wealth of entertaining and informative talks on the [PyCon 2017 YouTube channel](https://www.youtube.com/channel/UCrJhliKNQ8g0qoE_zvL8eVg/videos?sort=p&view=0&flow=grid).\n",
    "\n",
    "Two of my favorites this year were a complementary pair of talks on Python dictionaries by two PyCon regulars: Raymond Hettinger's [Modern Python Dictionaries A confluence of a dozen great ideas](https://www.youtube.com/watch?v=npw4s1QTmPg) and Brandon Rhodes' [The Dictionary Even Mightier](https://www.youtube.com/watch?v=66P5FMkWoVU) (a followup of his PyCon 2010 talk, [The Mighty Dictionary](https://www.youtube.com/watch?v=C4Kc8xzcA68))\n",
    "\n",
    "Raymond's is a fascinating dive into the guts of the CPython dict implementation, while Brandon's focuses more on recent improvements in the dict's user-facing API. One piece both mention is the addition in Python 3.6 of a private dictionary version to aid CPython optimization efforts. In Brandon's words:\n",
    "\n",
    "> \"[PEP509](https://www.python.org/dev/peps/pep-0509/) added a private version number... every dictionary has a version number, and elsewhere in memory a master version counter. And when you go and change a dictionary the master counter is incremented from a million to a million and one, and that value a million and one is written into the version number of that dictionary. So what this means is that you can come back later and know if it's been modified, without reading maybe its hundreds of keys and values: you just look and see if the version has increased since the last time you were there.\"\n",
    "\n",
    "He later went on to say,\n",
    "\n",
    "> \"[The version number] is internal; I haven't seen an interface for users to get to it...\"\n",
    "\n",
    "which, of course, I saw as an implicit challenge. So let's expose it!\n",
    "\n",
    "<!-- PELICAN_END_SUMMARY -->"
   ]
  },
  {
   "cell_type": "markdown",
   "metadata": {},
   "source": [
    "## Exposing CPython's Internals\n",
    "\n",
    "In a [post a few years ago](https://jakevdp.github.io/blog/2014/05/09/why-python-is-slow/), I showed how to use the ``ctypes`` module to muck around in the internals of CPython's implementation at runtime, and I'll use a similar strategy here.\n",
    "\n",
    "Briefly, the approach is to define a ``ctypes.Structure`` object that mirrors the sructure CPython uses to implement the type in question.\n",
    "We can start with the base structure that [underlies every Python object](https://github.com/python/cpython/blob/3.6/Include/object.h#L106-L110):\n",
    "\n",
    "```C\n",
    "typedef struct _object {\n",
    "    _PyObject_HEAD_EXTRA\n",
    "    Py_ssize_t ob_refcnt;\n",
    "    struct _typeobject *ob_type;\n",
    "} PyObject;\n",
    "```\n",
    "\n",
    "A ``ctypes`` wrapper might look like this:"
   ]
  },
  {
   "cell_type": "code",
   "execution_count": 1,
   "metadata": {
    "collapsed": false
   },
   "outputs": [],
   "source": [
    "import sys\n",
    "assert (3, 6) <= sys.version_info < (3, 7) # Valid only in Python 3.6\n",
    "\n",
    "import ctypes\n",
    "py_ssize_t = ctypes.c_ssize_t  # Almost always the case\n",
    "\n",
    "class PyObjectStruct(ctypes.Structure):\n",
    "    _fields_ = [('ob_refcnt', py_ssize_t),\n",
    "                ('ob_type', ctypes.c_void_p)]"
   ]
  },
  {
   "cell_type": "markdown",
   "metadata": {},
   "source": [
    "Next, let's look at the Python 3.6 [``PyDictObject`` definition](https://github.com/python/cpython/blob/3.6/Include/dictobject.h#L23-L41), which boils down to this:\n",
    "\n",
    "```C\n",
    "typedef struct {\n",
    "    PyObject_HEAD\n",
    "    Py_ssize_t ma_used;\n",
    "    uint64_t ma_version_tag;\n",
    "    PyDictKeysObject *ma_keys;\n",
    "    PyObject **ma_values;\n",
    "} PyDictObject;\n",
    "```\n",
    "\n",
    "We can mirror the structure behind the ``dict``  this way, plus add some methods that will be useful later:"
   ]
  },
  {
   "cell_type": "code",
   "execution_count": 2,
   "metadata": {
    "collapsed": false
   },
   "outputs": [],
   "source": [
    "class DictStruct(PyObjectStruct):\n",
    "    _fields_ = [(\"ma_used\", py_ssize_t),\n",
    "                (\"ma_version_tag\", ctypes.c_uint64),\n",
    "                (\"ma_keys\", ctypes.c_void_p),\n",
    "                (\"ma_values\", ctypes.c_void_p),\n",
    "               ]\n",
    "    \n",
    "    def __repr__(self):\n",
    "        return (f\"DictStruct(size={self.ma_used}, \"\n",
    "                f\"refcount={self.ob_refcnt}, \"\n",
    "                f\"version={self.ma_version_tag})\")\n",
    "    \n",
    "    @classmethod\n",
    "    def wrap(cls, obj):\n",
    "        assert isinstance(obj, dict)\n",
    "        return cls.from_address(id(obj))"
   ]
  },
  {
   "cell_type": "markdown",
   "metadata": {},
   "source": [
    "As a sanity check, let's make sure our structures match the size in memory of the types they are meant to wrap:"
   ]
  },
  {
   "cell_type": "code",
   "execution_count": 3,
   "metadata": {
    "collapsed": true
   },
   "outputs": [],
   "source": [
    "assert object.__basicsize__ == ctypes.sizeof(PyObjectStruct)\n",
    "assert dict.__basicsize__ == ctypes.sizeof(DictStruct)"
   ]
  },
  {
   "cell_type": "markdown",
   "metadata": {},
   "source": [
    "With this setup, we can now wrap any dict object to get a look at its internal properties.\n",
    "Here's what this gives for a simple dict:"
   ]
  },
  {
   "cell_type": "code",
   "execution_count": 4,
   "metadata": {
    "collapsed": false
   },
   "outputs": [
    {
     "data": {
      "text/plain": [
       "DictStruct(size=3, refcount=1, version=508220)"
      ]
     },
     "execution_count": 4,
     "metadata": {},
     "output_type": "execute_result"
    }
   ],
   "source": [
    "D = dict(a=1, b=2, c=3)\n",
    "DictStruct.wrap(D)"
   ]
  },
  {
   "cell_type": "markdown",
   "metadata": {},
   "source": [
    "To convince ourselves further that we're properly wrapping the object, let's make two more explicit references to this dict, add a new key, and make sure the size and reference count reflect this:"
   ]
  },
  {
   "cell_type": "code",
   "execution_count": 5,
   "metadata": {
    "collapsed": false
   },
   "outputs": [
    {
     "data": {
      "text/plain": [
       "DictStruct(size=4, refcount=3, version=515714)"
      ]
     },
     "execution_count": 5,
     "metadata": {},
     "output_type": "execute_result"
    }
   ],
   "source": [
    "D2 = D\n",
    "D3 = D2\n",
    "D3['d'] = 5\n",
    "DictStruct.wrap(D)"
   ]
  },
  {
   "cell_type": "markdown",
   "metadata": {},
   "source": [
    "It seems this is working correctly!"
   ]
  },
  {
   "cell_type": "markdown",
   "metadata": {},
   "source": [
    "## Exploring the Version Number\n",
    "\n",
    "So what does the version number do? As Brandon explained in his talk, every dict in CPython 3.6 now has a version number that is\n",
    "\n",
    "1. globally unique\n",
    "2. updated locally whenever a dict is modified\n",
    "3. incremented globally whenever *any* dict is modified\n",
    "\n",
    "This global value is stored in the [``pydict_global_version``](https://github.com/python/cpython/blob/3.6/Objects/dictobject.c#L243) variable in the CPython source.\n",
    "So if we create a bunch of new dicts, we should expect each to have a higher version number than the last:"
   ]
  },
  {
   "cell_type": "code",
   "execution_count": 6,
   "metadata": {
    "collapsed": false
   },
   "outputs": [
    {
     "name": "stdout",
     "output_type": "stream",
     "text": [
      "DictStruct(size=0, refcount=1, version=518136)\n",
      "DictStruct(size=0, refcount=1, version=518152)\n",
      "DictStruct(size=0, refcount=1, version=518157)\n",
      "DictStruct(size=0, refcount=1, version=518162)\n",
      "DictStruct(size=0, refcount=1, version=518167)\n",
      "DictStruct(size=0, refcount=1, version=518172)\n",
      "DictStruct(size=0, refcount=1, version=518177)\n",
      "DictStruct(size=0, refcount=1, version=518182)\n",
      "DictStruct(size=0, refcount=1, version=518187)\n",
      "DictStruct(size=0, refcount=1, version=518192)\n"
     ]
    }
   ],
   "source": [
    "for i in range(10):\n",
    "    dct = {}\n",
    "    print(DictStruct.wrap(dct))"
   ]
  },
  {
   "cell_type": "markdown",
   "metadata": {},
   "source": [
    "You might expect these versions to increment by one each time, but the version numbers are affected by the fact that Python uses many dictionaries in the background: among other things, local variables, global variables, and object attributes are all stored as dicts, and creating or modifying any of these results in the global version number being incremented.\n",
    "\n",
    "Similarly, any time we modify our dict it gets a higher version number:"
   ]
  },
  {
   "cell_type": "code",
   "execution_count": 7,
   "metadata": {
    "collapsed": false
   },
   "outputs": [
    {
     "name": "stdout",
     "output_type": "stream",
     "text": [
      "DictStruct(size=1, refcount=1, version=521221)\n",
      "DictStruct(size=2, refcount=1, version=521254)\n",
      "DictStruct(size=3, refcount=1, version=521270)\n",
      "DictStruct(size=4, refcount=1, version=521274)\n",
      "DictStruct(size=5, refcount=1, version=521278)\n",
      "DictStruct(size=6, refcount=1, version=521288)\n",
      "DictStruct(size=7, refcount=1, version=521329)\n",
      "DictStruct(size=8, refcount=1, version=521403)\n",
      "DictStruct(size=9, refcount=1, version=521487)\n",
      "DictStruct(size=10, refcount=1, version=521531)\n"
     ]
    }
   ],
   "source": [
    "D = {}\n",
    "Dwrap = DictStruct.wrap(D)\n",
    "for i in range(10):\n",
    "    D[i] = i\n",
    "    print(Dwrap)"
   ]
  },
  {
   "cell_type": "markdown",
   "metadata": {},
   "source": [
    "## Monkey-patching Dict\n",
    "\n",
    "Let's go a step further and monkey-patch the dict object itself with a method that accesses the version directly.\n",
    "Basically, we want to add a ``get_version`` method to the ``dict`` class that accesses this value.\n",
    "\n",
    "Our first attempt might look something like this:"
   ]
  },
  {
   "cell_type": "code",
   "execution_count": 8,
   "metadata": {
    "collapsed": false
   },
   "outputs": [
    {
     "ename": "TypeError",
     "evalue": "can't set attributes of built-in/extension type 'dict'",
     "output_type": "error",
     "traceback": [
      "\u001b[0;31m---------------------------------------------------------------------------\u001b[0m",
      "\u001b[0;31mTypeError\u001b[0m                                 Traceback (most recent call last)",
      "\u001b[0;32m<ipython-input-8-99d51a65c779>\u001b[0m in \u001b[0;36m<module>\u001b[0;34m()\u001b[0m\n\u001b[0;32m----> 1\u001b[0;31m \u001b[0mdict\u001b[0m\u001b[0;34m.\u001b[0m\u001b[0mget_version\u001b[0m \u001b[0;34m=\u001b[0m \u001b[0;32mlambda\u001b[0m \u001b[0mobj\u001b[0m\u001b[0;34m:\u001b[0m \u001b[0mDictStruct\u001b[0m\u001b[0;34m.\u001b[0m\u001b[0mwrap\u001b[0m\u001b[0;34m(\u001b[0m\u001b[0mobj\u001b[0m\u001b[0;34m)\u001b[0m\u001b[0;34m.\u001b[0m\u001b[0mma_version_tag\u001b[0m\u001b[0;34m\u001b[0m\u001b[0m\n\u001b[0m",
      "\u001b[0;31mTypeError\u001b[0m: can't set attributes of built-in/extension type 'dict'"
     ]
    }
   ],
   "source": [
    "dict.get_version = lambda obj: DictStruct.wrap(obj).ma_version_tag"
   ]
  },
  {
   "cell_type": "markdown",
   "metadata": {},
   "source": [
    "We get an error, because Python protects the attributes of built-in types from this kind of mucking.\n",
    "But never fear! We can get around this with (you guessed it) ``ctypes``!\n",
    "\n",
    "The attributes and methods of any Python object are stored in its ``__dict__`` attribute, which in Python 3.6 is not a dictionary but a ``mappingproxy`` object, which you can think of as a read-only wrapper of the underlying dictionary:"
   ]
  },
  {
   "cell_type": "code",
   "execution_count": 9,
   "metadata": {
    "collapsed": false
   },
   "outputs": [
    {
     "data": {
      "text/plain": [
       "mappingproxy({'__dict__': <attribute '__dict__' of 'Foo' objects>,\n",
       "              '__doc__': None,\n",
       "              '__module__': '__main__',\n",
       "              '__weakref__': <attribute '__weakref__' of 'Foo' objects>,\n",
       "              'bar': 4})"
      ]
     },
     "execution_count": 9,
     "metadata": {},
     "output_type": "execute_result"
    }
   ],
   "source": [
    "class Foo:\n",
    "    bar = 4\n",
    "    \n",
    "Foo.__dict__"
   ]
  },
  {
   "cell_type": "markdown",
   "metadata": {},
   "source": [
    "In fact, looking at the Python 3.6 [``mappingproxyobject`` implementation](https://github.com/python/cpython/blob/fff9a31a91283c39c363af219e595eab7d4da6f7/Objects/descrobject.c#L794-L797), we see that it's simply an object with a pointer to an underlying dict.\n",
    "\n",
    "```C\n",
    "typedef struct {\n",
    "    PyObject_HEAD\n",
    "    PyObject *mapping;\n",
    "} mappingproxyobject;\n",
    "```\n",
    "\n",
    "Let's write a ``ctypes`` structure that exposes this:"
   ]
  },
  {
   "cell_type": "code",
   "execution_count": 10,
   "metadata": {
    "collapsed": false
   },
   "outputs": [],
   "source": [
    "import types\n",
    "\n",
    "class MappingProxyStruct(PyObjectStruct):\n",
    "    _fields_ = [(\"mapping\", ctypes.POINTER(DictStruct))]\n",
    "    \n",
    "    @classmethod\n",
    "    def wrap(cls, D):\n",
    "        assert isinstance(D, types.MappingProxyType)\n",
    "        return cls.from_address(id(D))\n",
    "    \n",
    "# Sanity check\n",
    "assert types.MappingProxyType.__basicsize__ == ctypes.sizeof(MappingProxyStruct)"
   ]
  },
  {
   "cell_type": "markdown",
   "metadata": {},
   "source": [
    "Now we can use this to get a C-level handle for the underlying dict of any mapping proxy:"
   ]
  },
  {
   "cell_type": "code",
   "execution_count": 11,
   "metadata": {
    "collapsed": false
   },
   "outputs": [
    {
     "data": {
      "text/plain": [
       "<__main__.LP_DictStruct at 0x10667dc80>"
      ]
     },
     "execution_count": 11,
     "metadata": {},
     "output_type": "execute_result"
    }
   ],
   "source": [
    "proxy = MappingProxyStruct.wrap(dict.__dict__)\n",
    "proxy.mapping"
   ]
  },
  {
   "cell_type": "markdown",
   "metadata": {},
   "source": [
    "And we can pass this handle to functions in the C API in order to modify the dictionary wrapped by a read-only mapping proxy:"
   ]
  },
  {
   "cell_type": "code",
   "execution_count": 12,
   "metadata": {
    "collapsed": true
   },
   "outputs": [],
   "source": [
    "def mappingproxy_setitem(obj, key, val):\n",
    "    \"\"\"Set an item in a read-only mapping proxy\"\"\"\n",
    "    proxy = MappingProxyStruct.wrap(obj)\n",
    "    ctypes.pythonapi.PyDict_SetItem(proxy.mapping,\n",
    "                                    ctypes.py_object(key),\n",
    "                                    ctypes.py_object(val))"
   ]
  },
  {
   "cell_type": "code",
   "execution_count": 13,
   "metadata": {
    "collapsed": true
   },
   "outputs": [],
   "source": [
    "mappingproxy_setitem(dict.__dict__,\n",
    "                     'get_version',\n",
    "                     lambda self: DictStruct.wrap(self).ma_version_tag)"
   ]
  },
  {
   "cell_type": "markdown",
   "metadata": {},
   "source": [
    "Once this is executed, we can call ``get_version()`` as a method on *any* Python dictionary to get the version number:"
   ]
  },
  {
   "cell_type": "code",
   "execution_count": 15,
   "metadata": {
    "collapsed": false
   },
   "outputs": [
    {
     "data": {
      "text/plain": [
       "544453"
      ]
     },
     "execution_count": 15,
     "metadata": {},
     "output_type": "execute_result"
    }
   ],
   "source": [
    "{}.get_version()"
   ]
  },
  {
   "cell_type": "markdown",
   "metadata": {},
   "source": [
    "This kind of monkey patching could be used for any built-in type; for example, we could add a ``scramble`` method to strings that randomly chooses upper or lower case for its contents:"
   ]
  },
  {
   "cell_type": "code",
   "execution_count": 16,
   "metadata": {
    "collapsed": true
   },
   "outputs": [],
   "source": [
    "import random\n",
    "mappingproxy_setitem(str.__dict__,\n",
    "                     'scramble',\n",
    "                     lambda self: ''.join(random.choice([c.lower(), c.upper()]) for c in self))"
   ]
  },
  {
   "cell_type": "code",
   "execution_count": 17,
   "metadata": {
    "collapsed": false
   },
   "outputs": [
    {
     "data": {
      "text/plain": [
       "'hellO WORLd'"
      ]
     },
     "execution_count": 17,
     "metadata": {},
     "output_type": "execute_result"
    }
   ],
   "source": [
    "'hello world'.scramble()"
   ]
  },
  {
   "cell_type": "markdown",
   "metadata": {},
   "source": [
    "The possibilities are endless, but be warned that any time you muck around with the CPython internals at runtime, there are likely to be strange side-effects.\n",
    "This is definitely not code you should use for any purpose beyond simply having fun exploring the language.\n",
    "\n",
    "If you're curious about other ways you can modify the CPython runtime, you might be interested in my post from two years ago, [Why Python is Slow: Looking Under the Hood](https://jakevdp.github.io/blog/2014/05/09/why-python-is-slow/)."
   ]
  },
  {
   "cell_type": "markdown",
   "metadata": {},
   "source": [
    "## So... Why?\n",
    "\n",
    "Now we have easy access to the dict version number, and you might wonder what can we do with this.\n",
    "\n",
    "The answer is, currently, not so much. In the CPython source, the only time the version tag is referenced aside from its definition is [in a unit test](https://github.com/python/cpython/search?utf8=%E2%9C%93&q=ma_version_tag).\n",
    "Various Python optimization projects will in the future be able to use this feature to better optimize Python code, but to my knowledge none do yet (for example, here's a relevant [Numba issue](https://github.com/numba/numba/issues/2242) and [FATpython discussion](http://faster-cpython.readthedocs.io/fat_python.html)).\n",
    "\n",
    "So for the time being, access to the dictionary version number is, as they say, purely academic.\n",
    "But I hope that some time in the near future, a web search will land someone on this page who will find this code useful in more than a purely academic sense.\n",
    "\n",
    "Happy hacking!"
   ]
  },
  {
   "cell_type": "markdown",
   "metadata": {},
   "source": [
    "*This post was written entirely in the IPython notebook.  You can\n",
    "[download](http://jakevdp.github.io/downloads/notebooks/DictVersion.ipynb)\n",
    "this notebook, or see a static view\n",
    "[here](http://nbviewer.ipython.org/url/jakevdp.github.io/downloads/notebooks/DictVersion.ipynb).*"
   ]
  }
 ],
 "metadata": {
  "anaconda-cloud": {},
  "kernelspec": {
   "display_name": "Python 3.6",
   "language": "python",
   "name": "python3.6"
  },
  "language_info": {
   "codemirror_mode": {
    "name": "ipython",
    "version": 3
   },
   "file_extension": ".py",
   "mimetype": "text/x-python",
   "name": "python",
   "nbconvert_exporter": "python",
   "pygments_lexer": "ipython3",
   "version": "3.6.0"
  }
 },
 "nbformat": 4,
 "nbformat_minor": 1
}
